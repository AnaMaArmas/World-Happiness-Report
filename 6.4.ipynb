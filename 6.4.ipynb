{
 "cells": [
  {
   "cell_type": "markdown",
   "id": "b961fe61-0204-47dd-83d1-3ffd2073f4e8",
   "metadata": {},
   "source": [
    "## 6.4 Machine Learning Part 1"
   ]
  },
  {
   "cell_type": "markdown",
   "id": "d4a890f4-d711-49b5-8b2f-95856647caef",
   "metadata": {},
   "source": [
    "### This script contains the following:\n",
    "\n",
    "#### 1. Importing libraries and data\n",
    "#### 2. Data cleaning\n",
    "#### 3. Data prep for regression analysis\n",
    "#### 4. Regression analysis\n",
    "#### Bonus: performance improvement after removing outliers"
   ]
  },
  {
   "cell_type": "markdown",
   "id": "0b7cbbc7-c2a6-4e4a-bfb5-28d7704cb12a",
   "metadata": {},
   "source": [
    "### 1. Importing libraries and data"
   ]
  },
  {
   "cell_type": "code",
   "execution_count": 2,
   "id": "1fbed7c0-5ec0-4ddf-8748-edbd2974a1e1",
   "metadata": {},
   "outputs": [],
   "source": [
    "import pandas as pd\n",
    "import numpy as np\n",
    "import seaborn as sns\n",
    "import matplotlib\n",
    "import matplotlib.pyplot as plt\n",
    "import os\n",
    "import sklearn\n",
    "from sklearn.model_selection import train_test_split \n",
    "from sklearn.linear_model import LinearRegression\n",
    "from sklearn.metrics import mean_squared_error, r2_score"
   ]
  },
  {
   "cell_type": "code",
   "execution_count": 3,
   "id": "5913a301-7443-448e-ad06-41f561e798cb",
   "metadata": {},
   "outputs": [],
   "source": [
    "# This option ensures that the graphs you create are displayed within the notebook without the need to \"call\" them specifically.\n",
    "\n",
    "%matplotlib inline"
   ]
  },
  {
   "cell_type": "code",
   "execution_count": 4,
   "id": "766c55fd-e691-4434-aaf9-68355094a7eb",
   "metadata": {},
   "outputs": [],
   "source": [
    "path = r'C:\\Users\\anaar\\OneDrive\\Documents\\World Happiness Report'"
   ]
  },
  {
   "cell_type": "markdown",
   "id": "04388f72-eaf0-499f-9e31-5d089c76e1b9",
   "metadata": {},
   "source": [
    "Importing clean data sets"
   ]
  },
  {
   "cell_type": "code",
   "execution_count": 14,
   "id": "e17d7983-abd0-4268-8a62-f78086efcc82",
   "metadata": {},
   "outputs": [],
   "source": [
    "df_2015= pd.read_csv(os.path.join(path, '02 Data','Prepared Data', 'df_2015_6_3.csv'))"
   ]
  },
  {
   "cell_type": "code",
   "execution_count": 15,
   "id": "3016e3e9-e619-4d38-9932-19faa4d30101",
   "metadata": {},
   "outputs": [],
   "source": [
    "df_2016= pd.read_csv(os.path.join(path, '02 Data','Prepared Data', 'df_2016_6_3.csv'))"
   ]
  },
  {
   "cell_type": "code",
   "execution_count": 16,
   "id": "7e0ddf43-ae7e-47c4-af24-71aa739fe9e8",
   "metadata": {},
   "outputs": [],
   "source": [
    "df_2017= pd.read_csv(os.path.join(path, '02 Data','Prepared Data', 'df_2017_6_3.csv'))"
   ]
  },
  {
   "cell_type": "code",
   "execution_count": 17,
   "id": "47e6adcf-9a99-4386-b7e1-f7f51f18195a",
   "metadata": {},
   "outputs": [],
   "source": [
    "df_2018 = pd.read_csv(os.path.join(path, '02 Data','Prepared Data', 'df_2018_6_3.csv'))"
   ]
  },
  {
   "cell_type": "code",
   "execution_count": 18,
   "id": "b1dcac77-65ba-4ceb-8d37-7216bce7e34c",
   "metadata": {},
   "outputs": [],
   "source": [
    "df_2019= pd.read_csv(os.path.join(path, '02 Data','Prepared Data', 'df_2019_6_3.csv'))"
   ]
  },
  {
   "cell_type": "code",
   "execution_count": 19,
   "id": "f6aa980d-f90e-4427-b3a3-d00615a6a9f0",
   "metadata": {},
   "outputs": [
    {
     "data": {
      "text/plain": [
       "Index(['Unnamed: 0', 'Country', 'Region', 'Happiness Rank', 'Happiness Score',\n",
       "       'GDP per Capita', 'Social Support', 'Healthy Life Expectancy',\n",
       "       'Freedom to Make Life Choices', 'Perceptions of Corruption',\n",
       "       'Generosity'],\n",
       "      dtype='object')"
      ]
     },
     "execution_count": 19,
     "metadata": {},
     "output_type": "execute_result"
    }
   ],
   "source": [
    "df_2015.columns"
   ]
  },
  {
   "cell_type": "code",
   "execution_count": 20,
   "id": "5c38eabb-7632-473a-b830-572bc4fbc216",
   "metadata": {},
   "outputs": [
    {
     "data": {
      "text/plain": [
       "Index(['Unnamed: 0', 'Country', 'Region', 'Happiness Rank', 'Happiness Score',\n",
       "       'GDP per Capita', 'Social Support', 'Healthy Life Expectancy',\n",
       "       'Freedom to Make Life Choices', 'Perceptions of Corruption',\n",
       "       'Generosity'],\n",
       "      dtype='object')"
      ]
     },
     "execution_count": 20,
     "metadata": {},
     "output_type": "execute_result"
    }
   ],
   "source": [
    "df_2016.columns"
   ]
  },
  {
   "cell_type": "code",
   "execution_count": 22,
   "id": "4c4f9ecc-a969-43ee-8463-4d08dbff3d73",
   "metadata": {},
   "outputs": [
    {
     "data": {
      "text/plain": [
       "Index(['Unnamed: 0', 'Country', 'Region', 'Happiness Rank', 'Happiness Score',\n",
       "       'GDP per Capita', 'Social Support', 'Healthy Life Expectancy',\n",
       "       'Freedom to Make Life Choices', 'Generosity',\n",
       "       'Perceptions of Corruption'],\n",
       "      dtype='object')"
      ]
     },
     "execution_count": 22,
     "metadata": {},
     "output_type": "execute_result"
    }
   ],
   "source": [
    "df_2017.columns"
   ]
  },
  {
   "cell_type": "code",
   "execution_count": 23,
   "id": "4f5b6083-eb12-49cf-99a4-4902f2565ff8",
   "metadata": {},
   "outputs": [
    {
     "data": {
      "text/plain": [
       "Index(['Unnamed: 0', 'Country', 'Region', 'Happiness Score', 'Happiness Rank',\n",
       "       'GDP per Capita', 'Social Support', 'Healthy Life Expectancy',\n",
       "       'Freedom to Make Life Choices', 'Generosity',\n",
       "       'Perceptions of Corruption'],\n",
       "      dtype='object')"
      ]
     },
     "execution_count": 23,
     "metadata": {},
     "output_type": "execute_result"
    }
   ],
   "source": [
    "df_2018.columns"
   ]
  },
  {
   "cell_type": "code",
   "execution_count": 24,
   "id": "eb3bef7d-9ec7-4326-92ef-5ec01171818f",
   "metadata": {},
   "outputs": [
    {
     "data": {
      "text/plain": [
       "Index(['Unnamed: 0', 'Country', 'Region', 'Happiness Score', 'Happiness Rank',\n",
       "       'GDP per Capita', 'Social Support', 'Healthy Life Expectancy',\n",
       "       'Freedom to Make Life Choices', 'Generosity',\n",
       "       'Perceptions of Corruption'],\n",
       "      dtype='object')"
      ]
     },
     "execution_count": 24,
     "metadata": {},
     "output_type": "execute_result"
    }
   ],
   "source": [
    "df_2019.columns"
   ]
  },
  {
   "cell_type": "code",
   "execution_count": 25,
   "id": "0389cbbd-c8c5-4c0d-9163-913e6757e248",
   "metadata": {},
   "outputs": [],
   "source": [
    "#Droping 'Unnamed: 0' of all data sets\n",
    "# List of DataFrames\n",
    "data_frames = [df_2015, df_2016, df_2017, df_2018, df_2019]\n",
    "\n",
    "# Drop 'Unnamed: 0' column from each DataFrame\n",
    "for df in data_frames:\n",
    "    if 'Unnamed: 0' in df.columns:\n",
    "        df.drop(columns=['Unnamed: 0'], inplace=True)"
   ]
  },
  {
   "cell_type": "code",
   "execution_count": 45,
   "id": "bfeacd93-d61e-4e26-98b6-5aefbbba1946",
   "metadata": {},
   "outputs": [],
   "source": [
    "# Ordering the columns in a cohesive way for all dfs\n",
    "column_order = ['Country', 'Region', 'Happiness Rank', 'Happiness Score', \n",
    "                 'GDP per Capita', 'Social Support', 'Healthy Life Expectancy', \n",
    "                 'Freedom to Make Life Choices', 'Perceptions of Corruption', 'Generosity']\n",
    "\n",
    "# Reorder the columns for df_2015\n",
    "df_2017 = df_2017[column_order]\n",
    "\n",
    "# Reorder the columns for df_2016\n",
    "df_2018 = df_2018[column_order]\n",
    "\n",
    "# Reorder the columns for df_2016\n",
    "df_2019 = df_2019[column_order]"
   ]
  },
  {
   "cell_type": "code",
   "execution_count": 46,
   "id": "1723fe41-cdcc-4d9b-bbb8-a342eeb88498",
   "metadata": {},
   "outputs": [
    {
     "data": {
      "text/plain": [
       "Index(['Country', 'Region', 'Happiness Rank', 'Happiness Score',\n",
       "       'GDP per Capita', 'Social Support', 'Healthy Life Expectancy',\n",
       "       'Freedom to Make Life Choices', 'Perceptions of Corruption',\n",
       "       'Generosity'],\n",
       "      dtype='object')"
      ]
     },
     "execution_count": 46,
     "metadata": {},
     "output_type": "execute_result"
    }
   ],
   "source": [
    "#checking for output \n",
    "df_2015.columns"
   ]
  },
  {
   "cell_type": "code",
   "execution_count": 47,
   "id": "262ecde4-a386-4460-ba25-6b246e40b80f",
   "metadata": {},
   "outputs": [
    {
     "data": {
      "text/plain": [
       "Index(['Country', 'Region', 'Happiness Rank', 'Happiness Score',\n",
       "       'GDP per Capita', 'Social Support', 'Healthy Life Expectancy',\n",
       "       'Freedom to Make Life Choices', 'Perceptions of Corruption',\n",
       "       'Generosity'],\n",
       "      dtype='object')"
      ]
     },
     "execution_count": 47,
     "metadata": {},
     "output_type": "execute_result"
    }
   ],
   "source": [
    "df_2016.columns"
   ]
  },
  {
   "cell_type": "code",
   "execution_count": 48,
   "id": "68b18876-16ca-413d-b262-33b68fb4546c",
   "metadata": {},
   "outputs": [
    {
     "data": {
      "text/plain": [
       "Index(['Country', 'Region', 'Happiness Rank', 'Happiness Score',\n",
       "       'GDP per Capita', 'Social Support', 'Healthy Life Expectancy',\n",
       "       'Freedom to Make Life Choices', 'Perceptions of Corruption',\n",
       "       'Generosity'],\n",
       "      dtype='object')"
      ]
     },
     "execution_count": 48,
     "metadata": {},
     "output_type": "execute_result"
    }
   ],
   "source": [
    "df_2017.columns"
   ]
  },
  {
   "cell_type": "code",
   "execution_count": 49,
   "id": "913f9f51-418a-4825-989e-e90977d4f615",
   "metadata": {},
   "outputs": [
    {
     "data": {
      "text/plain": [
       "Index(['Country', 'Region', 'Happiness Rank', 'Happiness Score',\n",
       "       'GDP per Capita', 'Social Support', 'Healthy Life Expectancy',\n",
       "       'Freedom to Make Life Choices', 'Perceptions of Corruption',\n",
       "       'Generosity'],\n",
       "      dtype='object')"
      ]
     },
     "execution_count": 49,
     "metadata": {},
     "output_type": "execute_result"
    }
   ],
   "source": [
    "df_2018.columns"
   ]
  },
  {
   "cell_type": "code",
   "execution_count": 50,
   "id": "bab09821-33c7-401c-8afb-3ffbe27c9a69",
   "metadata": {},
   "outputs": [
    {
     "data": {
      "text/plain": [
       "Index(['Country', 'Region', 'Happiness Rank', 'Happiness Score',\n",
       "       'GDP per Capita', 'Social Support', 'Healthy Life Expectancy',\n",
       "       'Freedom to Make Life Choices', 'Perceptions of Corruption',\n",
       "       'Generosity'],\n",
       "      dtype='object')"
      ]
     },
     "execution_count": 50,
     "metadata": {},
     "output_type": "execute_result"
    }
   ],
   "source": [
    "df_2019.columns"
   ]
  },
  {
   "cell_type": "code",
   "execution_count": 51,
   "id": "81c0e505-e8b4-47ca-9fa5-e1afe86ed3bc",
   "metadata": {},
   "outputs": [
    {
     "data": {
      "text/plain": [
       "(158, 10)"
      ]
     },
     "execution_count": 51,
     "metadata": {},
     "output_type": "execute_result"
    }
   ],
   "source": [
    "#Checking for shape of all dataframes\n",
    "df_2015.shape"
   ]
  },
  {
   "cell_type": "code",
   "execution_count": 52,
   "id": "4fe4ab08-d7cc-4e22-a55d-581a6065ae50",
   "metadata": {},
   "outputs": [
    {
     "data": {
      "text/plain": [
       "(157, 10)"
      ]
     },
     "execution_count": 52,
     "metadata": {},
     "output_type": "execute_result"
    }
   ],
   "source": [
    "df_2016.shape"
   ]
  },
  {
   "cell_type": "code",
   "execution_count": 53,
   "id": "8358be38-1acf-4114-a21a-b4d2b37f754e",
   "metadata": {},
   "outputs": [
    {
     "data": {
      "text/plain": [
       "(155, 10)"
      ]
     },
     "execution_count": 53,
     "metadata": {},
     "output_type": "execute_result"
    }
   ],
   "source": [
    "df_2017.shape"
   ]
  },
  {
   "cell_type": "code",
   "execution_count": 54,
   "id": "19dcb30f-95fe-47a5-8d9a-78919dc26964",
   "metadata": {},
   "outputs": [
    {
     "data": {
      "text/plain": [
       "(156, 10)"
      ]
     },
     "execution_count": 54,
     "metadata": {},
     "output_type": "execute_result"
    }
   ],
   "source": [
    "df_2018.shape"
   ]
  },
  {
   "cell_type": "code",
   "execution_count": 55,
   "id": "ea5fd83c-aec8-4337-b4c0-24b291ff0480",
   "metadata": {},
   "outputs": [
    {
     "data": {
      "text/plain": [
       "(156, 10)"
      ]
     },
     "execution_count": 55,
     "metadata": {},
     "output_type": "execute_result"
    }
   ],
   "source": [
    "df_2019.shape"
   ]
  },
  {
   "cell_type": "code",
   "execution_count": 56,
   "id": "215dbcbc-5441-49a6-be50-dff9d8a32187",
   "metadata": {},
   "outputs": [
    {
     "name": "stdout",
     "output_type": "stream",
     "text": [
      "Missing values in DataFrame 2015:\n",
      "Country                         0\n",
      "Region                          0\n",
      "Happiness Rank                  0\n",
      "Happiness Score                 0\n",
      "GDP per Capita                  0\n",
      "Social Support                  0\n",
      "Healthy Life Expectancy         0\n",
      "Freedom to Make Life Choices    0\n",
      "Perceptions of Corruption       0\n",
      "Generosity                      0\n",
      "dtype: int64\n",
      "\n",
      "Missing values in DataFrame 2016:\n",
      "Country                         0\n",
      "Region                          0\n",
      "Happiness Rank                  0\n",
      "Happiness Score                 0\n",
      "GDP per Capita                  0\n",
      "Social Support                  0\n",
      "Healthy Life Expectancy         0\n",
      "Freedom to Make Life Choices    0\n",
      "Perceptions of Corruption       0\n",
      "Generosity                      0\n",
      "dtype: int64\n",
      "\n",
      "Missing values in DataFrame 2017:\n",
      "Country                         0\n",
      "Region                          0\n",
      "Happiness Rank                  0\n",
      "Happiness Score                 0\n",
      "GDP per Capita                  0\n",
      "Social Support                  0\n",
      "Healthy Life Expectancy         0\n",
      "Freedom to Make Life Choices    0\n",
      "Perceptions of Corruption       0\n",
      "Generosity                      0\n",
      "dtype: int64\n",
      "\n",
      "Missing values in DataFrame 2018:\n",
      "Country                         0\n",
      "Region                          0\n",
      "Happiness Rank                  0\n",
      "Happiness Score                 0\n",
      "GDP per Capita                  0\n",
      "Social Support                  0\n",
      "Healthy Life Expectancy         0\n",
      "Freedom to Make Life Choices    0\n",
      "Perceptions of Corruption       0\n",
      "Generosity                      0\n",
      "dtype: int64\n",
      "\n",
      "Missing values in DataFrame 2019:\n",
      "Country                         0\n",
      "Region                          0\n",
      "Happiness Rank                  0\n",
      "Happiness Score                 0\n",
      "GDP per Capita                  0\n",
      "Social Support                  0\n",
      "Healthy Life Expectancy         0\n",
      "Freedom to Make Life Choices    0\n",
      "Perceptions of Corruption       0\n",
      "Generosity                      0\n",
      "dtype: int64\n",
      "\n"
     ]
    }
   ],
   "source": [
    "#checking for missing values of all dataframes \n",
    "# List of DataFrames\n",
    "data_frames = [df_2015, df_2016, df_2017, df_2018, df_2019]\n",
    "\n",
    "# Iterate over each DataFrame\n",
    "for i, df in enumerate(data_frames, start=2015):\n",
    "    print(f\"Missing values in DataFrame {i}:\")\n",
    "    print(df.isnull().sum())\n",
    "    print()"
   ]
  },
  {
   "cell_type": "markdown",
   "id": "0febb2e8-f1f4-4920-8444-42e1072b7e85",
   "metadata": {},
   "source": [
    "No missing values "
   ]
  },
  {
   "cell_type": "code",
   "execution_count": 57,
   "id": "14d8fd53-95d4-4507-b9b9-3923e15af2ec",
   "metadata": {},
   "outputs": [
    {
     "name": "stdout",
     "output_type": "stream",
     "text": [
      "Duplicates in DataFrame 2015:\n",
      "0\n",
      "\n",
      "Duplicates in DataFrame 2016:\n",
      "0\n",
      "\n",
      "Duplicates in DataFrame 2017:\n",
      "0\n",
      "\n",
      "Duplicates in DataFrame 2018:\n",
      "0\n",
      "\n",
      "Duplicates in DataFrame 2019:\n",
      "0\n",
      "\n"
     ]
    }
   ],
   "source": [
    "#chekcing for duplicates \n",
    "# List of DataFrames\n",
    "data_frames = [df_2015, df_2016, df_2017, df_2018, df_2019]\n",
    "\n",
    "# Iterate over each DataFrame\n",
    "for i, df in enumerate(data_frames, start=2015):\n",
    "    print(f\"Duplicates in DataFrame {i}:\")\n",
    "    print(df.duplicated().sum())\n",
    "    print()"
   ]
  },
  {
   "cell_type": "markdown",
   "id": "0eee773b-48f7-4cca-ba4d-7f6abbdc618c",
   "metadata": {},
   "source": [
    "No duplicates found"
   ]
  },
  {
   "cell_type": "code",
   "execution_count": 58,
   "id": "49fe5435-6f1f-40e0-b380-f28cc98650d0",
   "metadata": {},
   "outputs": [
    {
     "data": {
      "text/html": [
       "<div>\n",
       "<style scoped>\n",
       "    .dataframe tbody tr th:only-of-type {\n",
       "        vertical-align: middle;\n",
       "    }\n",
       "\n",
       "    .dataframe tbody tr th {\n",
       "        vertical-align: top;\n",
       "    }\n",
       "\n",
       "    .dataframe thead th {\n",
       "        text-align: right;\n",
       "    }\n",
       "</style>\n",
       "<table border=\"1\" class=\"dataframe\">\n",
       "  <thead>\n",
       "    <tr style=\"text-align: right;\">\n",
       "      <th></th>\n",
       "      <th>Country</th>\n",
       "      <th>Region</th>\n",
       "      <th>Happiness Rank</th>\n",
       "      <th>Happiness Score</th>\n",
       "      <th>GDP per Capita</th>\n",
       "      <th>Social Support</th>\n",
       "      <th>Healthy Life Expectancy</th>\n",
       "      <th>Freedom to Make Life Choices</th>\n",
       "      <th>Perceptions of Corruption</th>\n",
       "      <th>Generosity</th>\n",
       "    </tr>\n",
       "  </thead>\n",
       "  <tbody>\n",
       "    <tr>\n",
       "      <th>0</th>\n",
       "      <td>Switzerland</td>\n",
       "      <td>Western Europe</td>\n",
       "      <td>1</td>\n",
       "      <td>7.587</td>\n",
       "      <td>1.39651</td>\n",
       "      <td>1.34951</td>\n",
       "      <td>0.94143</td>\n",
       "      <td>0.66557</td>\n",
       "      <td>0.41978</td>\n",
       "      <td>0.29678</td>\n",
       "    </tr>\n",
       "    <tr>\n",
       "      <th>1</th>\n",
       "      <td>Iceland</td>\n",
       "      <td>Western Europe</td>\n",
       "      <td>2</td>\n",
       "      <td>7.561</td>\n",
       "      <td>1.30232</td>\n",
       "      <td>1.40223</td>\n",
       "      <td>0.94784</td>\n",
       "      <td>0.62877</td>\n",
       "      <td>0.14145</td>\n",
       "      <td>0.43630</td>\n",
       "    </tr>\n",
       "    <tr>\n",
       "      <th>2</th>\n",
       "      <td>Denmark</td>\n",
       "      <td>Western Europe</td>\n",
       "      <td>3</td>\n",
       "      <td>7.527</td>\n",
       "      <td>1.32548</td>\n",
       "      <td>1.36058</td>\n",
       "      <td>0.87464</td>\n",
       "      <td>0.64938</td>\n",
       "      <td>0.48357</td>\n",
       "      <td>0.34139</td>\n",
       "    </tr>\n",
       "    <tr>\n",
       "      <th>3</th>\n",
       "      <td>Norway</td>\n",
       "      <td>Western Europe</td>\n",
       "      <td>4</td>\n",
       "      <td>7.522</td>\n",
       "      <td>1.45900</td>\n",
       "      <td>1.33095</td>\n",
       "      <td>0.88521</td>\n",
       "      <td>0.66973</td>\n",
       "      <td>0.36503</td>\n",
       "      <td>0.34699</td>\n",
       "    </tr>\n",
       "    <tr>\n",
       "      <th>4</th>\n",
       "      <td>Canada</td>\n",
       "      <td>North America</td>\n",
       "      <td>5</td>\n",
       "      <td>7.427</td>\n",
       "      <td>1.32629</td>\n",
       "      <td>1.32261</td>\n",
       "      <td>0.90563</td>\n",
       "      <td>0.63297</td>\n",
       "      <td>0.32957</td>\n",
       "      <td>0.45811</td>\n",
       "    </tr>\n",
       "  </tbody>\n",
       "</table>\n",
       "</div>"
      ],
      "text/plain": [
       "       Country          Region  Happiness Rank  Happiness Score  \\\n",
       "0  Switzerland  Western Europe               1            7.587   \n",
       "1      Iceland  Western Europe               2            7.561   \n",
       "2      Denmark  Western Europe               3            7.527   \n",
       "3       Norway  Western Europe               4            7.522   \n",
       "4       Canada   North America               5            7.427   \n",
       "\n",
       "   GDP per Capita  Social Support  Healthy Life Expectancy  \\\n",
       "0         1.39651         1.34951                  0.94143   \n",
       "1         1.30232         1.40223                  0.94784   \n",
       "2         1.32548         1.36058                  0.87464   \n",
       "3         1.45900         1.33095                  0.88521   \n",
       "4         1.32629         1.32261                  0.90563   \n",
       "\n",
       "   Freedom to Make Life Choices  Perceptions of Corruption  Generosity  \n",
       "0                       0.66557                    0.41978     0.29678  \n",
       "1                       0.62877                    0.14145     0.43630  \n",
       "2                       0.64938                    0.48357     0.34139  \n",
       "3                       0.66973                    0.36503     0.34699  \n",
       "4                       0.63297                    0.32957     0.45811  "
      ]
     },
     "execution_count": 58,
     "metadata": {},
     "output_type": "execute_result"
    }
   ],
   "source": [
    "#final head check\n",
    "df_2015.head()"
   ]
  },
  {
   "cell_type": "code",
   "execution_count": 59,
   "id": "41daf959-0ec7-4b3e-8b4c-94363fb1f5d6",
   "metadata": {},
   "outputs": [
    {
     "data": {
      "text/html": [
       "<div>\n",
       "<style scoped>\n",
       "    .dataframe tbody tr th:only-of-type {\n",
       "        vertical-align: middle;\n",
       "    }\n",
       "\n",
       "    .dataframe tbody tr th {\n",
       "        vertical-align: top;\n",
       "    }\n",
       "\n",
       "    .dataframe thead th {\n",
       "        text-align: right;\n",
       "    }\n",
       "</style>\n",
       "<table border=\"1\" class=\"dataframe\">\n",
       "  <thead>\n",
       "    <tr style=\"text-align: right;\">\n",
       "      <th></th>\n",
       "      <th>Country</th>\n",
       "      <th>Region</th>\n",
       "      <th>Happiness Rank</th>\n",
       "      <th>Happiness Score</th>\n",
       "      <th>GDP per Capita</th>\n",
       "      <th>Social Support</th>\n",
       "      <th>Healthy Life Expectancy</th>\n",
       "      <th>Freedom to Make Life Choices</th>\n",
       "      <th>Perceptions of Corruption</th>\n",
       "      <th>Generosity</th>\n",
       "    </tr>\n",
       "  </thead>\n",
       "  <tbody>\n",
       "    <tr>\n",
       "      <th>0</th>\n",
       "      <td>Denmark</td>\n",
       "      <td>Western Europe</td>\n",
       "      <td>1</td>\n",
       "      <td>7.526</td>\n",
       "      <td>1.44178</td>\n",
       "      <td>1.16374</td>\n",
       "      <td>0.79504</td>\n",
       "      <td>0.57941</td>\n",
       "      <td>0.44453</td>\n",
       "      <td>0.36171</td>\n",
       "    </tr>\n",
       "    <tr>\n",
       "      <th>1</th>\n",
       "      <td>Switzerland</td>\n",
       "      <td>Western Europe</td>\n",
       "      <td>2</td>\n",
       "      <td>7.509</td>\n",
       "      <td>1.52733</td>\n",
       "      <td>1.14524</td>\n",
       "      <td>0.86303</td>\n",
       "      <td>0.58557</td>\n",
       "      <td>0.41203</td>\n",
       "      <td>0.28083</td>\n",
       "    </tr>\n",
       "    <tr>\n",
       "      <th>2</th>\n",
       "      <td>Iceland</td>\n",
       "      <td>Western Europe</td>\n",
       "      <td>3</td>\n",
       "      <td>7.501</td>\n",
       "      <td>1.42666</td>\n",
       "      <td>1.18326</td>\n",
       "      <td>0.86733</td>\n",
       "      <td>0.56624</td>\n",
       "      <td>0.14975</td>\n",
       "      <td>0.47678</td>\n",
       "    </tr>\n",
       "    <tr>\n",
       "      <th>3</th>\n",
       "      <td>Norway</td>\n",
       "      <td>Western Europe</td>\n",
       "      <td>4</td>\n",
       "      <td>7.498</td>\n",
       "      <td>1.57744</td>\n",
       "      <td>1.12690</td>\n",
       "      <td>0.79579</td>\n",
       "      <td>0.59609</td>\n",
       "      <td>0.35776</td>\n",
       "      <td>0.37895</td>\n",
       "    </tr>\n",
       "    <tr>\n",
       "      <th>4</th>\n",
       "      <td>Finland</td>\n",
       "      <td>Western Europe</td>\n",
       "      <td>5</td>\n",
       "      <td>7.413</td>\n",
       "      <td>1.40598</td>\n",
       "      <td>1.13464</td>\n",
       "      <td>0.81091</td>\n",
       "      <td>0.57104</td>\n",
       "      <td>0.41004</td>\n",
       "      <td>0.25492</td>\n",
       "    </tr>\n",
       "  </tbody>\n",
       "</table>\n",
       "</div>"
      ],
      "text/plain": [
       "       Country          Region  Happiness Rank  Happiness Score  \\\n",
       "0      Denmark  Western Europe               1            7.526   \n",
       "1  Switzerland  Western Europe               2            7.509   \n",
       "2      Iceland  Western Europe               3            7.501   \n",
       "3       Norway  Western Europe               4            7.498   \n",
       "4      Finland  Western Europe               5            7.413   \n",
       "\n",
       "   GDP per Capita  Social Support  Healthy Life Expectancy  \\\n",
       "0         1.44178         1.16374                  0.79504   \n",
       "1         1.52733         1.14524                  0.86303   \n",
       "2         1.42666         1.18326                  0.86733   \n",
       "3         1.57744         1.12690                  0.79579   \n",
       "4         1.40598         1.13464                  0.81091   \n",
       "\n",
       "   Freedom to Make Life Choices  Perceptions of Corruption  Generosity  \n",
       "0                       0.57941                    0.44453     0.36171  \n",
       "1                       0.58557                    0.41203     0.28083  \n",
       "2                       0.56624                    0.14975     0.47678  \n",
       "3                       0.59609                    0.35776     0.37895  \n",
       "4                       0.57104                    0.41004     0.25492  "
      ]
     },
     "execution_count": 59,
     "metadata": {},
     "output_type": "execute_result"
    }
   ],
   "source": [
    "df_2016.head()"
   ]
  },
  {
   "cell_type": "code",
   "execution_count": 60,
   "id": "717410e5-12d6-49b7-bf1c-7c3387733e6c",
   "metadata": {},
   "outputs": [
    {
     "data": {
      "text/html": [
       "<div>\n",
       "<style scoped>\n",
       "    .dataframe tbody tr th:only-of-type {\n",
       "        vertical-align: middle;\n",
       "    }\n",
       "\n",
       "    .dataframe tbody tr th {\n",
       "        vertical-align: top;\n",
       "    }\n",
       "\n",
       "    .dataframe thead th {\n",
       "        text-align: right;\n",
       "    }\n",
       "</style>\n",
       "<table border=\"1\" class=\"dataframe\">\n",
       "  <thead>\n",
       "    <tr style=\"text-align: right;\">\n",
       "      <th></th>\n",
       "      <th>Country</th>\n",
       "      <th>Region</th>\n",
       "      <th>Happiness Rank</th>\n",
       "      <th>Happiness Score</th>\n",
       "      <th>GDP per Capita</th>\n",
       "      <th>Social Support</th>\n",
       "      <th>Healthy Life Expectancy</th>\n",
       "      <th>Freedom to Make Life Choices</th>\n",
       "      <th>Perceptions of Corruption</th>\n",
       "      <th>Generosity</th>\n",
       "    </tr>\n",
       "  </thead>\n",
       "  <tbody>\n",
       "    <tr>\n",
       "      <th>0</th>\n",
       "      <td>Norway</td>\n",
       "      <td>Western Europe</td>\n",
       "      <td>1</td>\n",
       "      <td>7.537</td>\n",
       "      <td>1.616463</td>\n",
       "      <td>1.533524</td>\n",
       "      <td>0.796667</td>\n",
       "      <td>0.635423</td>\n",
       "      <td>0.315964</td>\n",
       "      <td>0.362012</td>\n",
       "    </tr>\n",
       "    <tr>\n",
       "      <th>1</th>\n",
       "      <td>Denmark</td>\n",
       "      <td>Western Europe</td>\n",
       "      <td>2</td>\n",
       "      <td>7.522</td>\n",
       "      <td>1.482383</td>\n",
       "      <td>1.551122</td>\n",
       "      <td>0.792566</td>\n",
       "      <td>0.626007</td>\n",
       "      <td>0.400770</td>\n",
       "      <td>0.355280</td>\n",
       "    </tr>\n",
       "    <tr>\n",
       "      <th>2</th>\n",
       "      <td>Iceland</td>\n",
       "      <td>Western Europe</td>\n",
       "      <td>3</td>\n",
       "      <td>7.504</td>\n",
       "      <td>1.480633</td>\n",
       "      <td>1.610574</td>\n",
       "      <td>0.833552</td>\n",
       "      <td>0.627163</td>\n",
       "      <td>0.153527</td>\n",
       "      <td>0.475540</td>\n",
       "    </tr>\n",
       "    <tr>\n",
       "      <th>3</th>\n",
       "      <td>Switzerland</td>\n",
       "      <td>Western Europe</td>\n",
       "      <td>4</td>\n",
       "      <td>7.494</td>\n",
       "      <td>1.564980</td>\n",
       "      <td>1.516912</td>\n",
       "      <td>0.858131</td>\n",
       "      <td>0.620071</td>\n",
       "      <td>0.367007</td>\n",
       "      <td>0.290549</td>\n",
       "    </tr>\n",
       "    <tr>\n",
       "      <th>4</th>\n",
       "      <td>Finland</td>\n",
       "      <td>Western Europe</td>\n",
       "      <td>5</td>\n",
       "      <td>7.469</td>\n",
       "      <td>1.443572</td>\n",
       "      <td>1.540247</td>\n",
       "      <td>0.809158</td>\n",
       "      <td>0.617951</td>\n",
       "      <td>0.382612</td>\n",
       "      <td>0.245483</td>\n",
       "    </tr>\n",
       "  </tbody>\n",
       "</table>\n",
       "</div>"
      ],
      "text/plain": [
       "       Country          Region  Happiness Rank  Happiness Score  \\\n",
       "0       Norway  Western Europe               1            7.537   \n",
       "1      Denmark  Western Europe               2            7.522   \n",
       "2      Iceland  Western Europe               3            7.504   \n",
       "3  Switzerland  Western Europe               4            7.494   \n",
       "4      Finland  Western Europe               5            7.469   \n",
       "\n",
       "   GDP per Capita  Social Support  Healthy Life Expectancy  \\\n",
       "0        1.616463        1.533524                 0.796667   \n",
       "1        1.482383        1.551122                 0.792566   \n",
       "2        1.480633        1.610574                 0.833552   \n",
       "3        1.564980        1.516912                 0.858131   \n",
       "4        1.443572        1.540247                 0.809158   \n",
       "\n",
       "   Freedom to Make Life Choices  Perceptions of Corruption  Generosity  \n",
       "0                      0.635423                   0.315964    0.362012  \n",
       "1                      0.626007                   0.400770    0.355280  \n",
       "2                      0.627163                   0.153527    0.475540  \n",
       "3                      0.620071                   0.367007    0.290549  \n",
       "4                      0.617951                   0.382612    0.245483  "
      ]
     },
     "execution_count": 60,
     "metadata": {},
     "output_type": "execute_result"
    }
   ],
   "source": [
    "df_2017.head()"
   ]
  },
  {
   "cell_type": "code",
   "execution_count": 61,
   "id": "e66ea3b5-a75f-46be-b0f5-18d1180068dc",
   "metadata": {},
   "outputs": [
    {
     "data": {
      "text/html": [
       "<div>\n",
       "<style scoped>\n",
       "    .dataframe tbody tr th:only-of-type {\n",
       "        vertical-align: middle;\n",
       "    }\n",
       "\n",
       "    .dataframe tbody tr th {\n",
       "        vertical-align: top;\n",
       "    }\n",
       "\n",
       "    .dataframe thead th {\n",
       "        text-align: right;\n",
       "    }\n",
       "</style>\n",
       "<table border=\"1\" class=\"dataframe\">\n",
       "  <thead>\n",
       "    <tr style=\"text-align: right;\">\n",
       "      <th></th>\n",
       "      <th>Country</th>\n",
       "      <th>Region</th>\n",
       "      <th>Happiness Rank</th>\n",
       "      <th>Happiness Score</th>\n",
       "      <th>GDP per Capita</th>\n",
       "      <th>Social Support</th>\n",
       "      <th>Healthy Life Expectancy</th>\n",
       "      <th>Freedom to Make Life Choices</th>\n",
       "      <th>Perceptions of Corruption</th>\n",
       "      <th>Generosity</th>\n",
       "    </tr>\n",
       "  </thead>\n",
       "  <tbody>\n",
       "    <tr>\n",
       "      <th>0</th>\n",
       "      <td>Finland</td>\n",
       "      <td>Western Europe</td>\n",
       "      <td>1</td>\n",
       "      <td>7.632</td>\n",
       "      <td>1.305</td>\n",
       "      <td>1.592</td>\n",
       "      <td>0.874</td>\n",
       "      <td>0.681</td>\n",
       "      <td>0.393</td>\n",
       "      <td>0.202</td>\n",
       "    </tr>\n",
       "    <tr>\n",
       "      <th>1</th>\n",
       "      <td>Norway</td>\n",
       "      <td>Western Europe</td>\n",
       "      <td>2</td>\n",
       "      <td>7.594</td>\n",
       "      <td>1.456</td>\n",
       "      <td>1.582</td>\n",
       "      <td>0.861</td>\n",
       "      <td>0.686</td>\n",
       "      <td>0.340</td>\n",
       "      <td>0.286</td>\n",
       "    </tr>\n",
       "    <tr>\n",
       "      <th>2</th>\n",
       "      <td>Denmark</td>\n",
       "      <td>Western Europe</td>\n",
       "      <td>3</td>\n",
       "      <td>7.555</td>\n",
       "      <td>1.351</td>\n",
       "      <td>1.590</td>\n",
       "      <td>0.868</td>\n",
       "      <td>0.683</td>\n",
       "      <td>0.408</td>\n",
       "      <td>0.284</td>\n",
       "    </tr>\n",
       "    <tr>\n",
       "      <th>3</th>\n",
       "      <td>Iceland</td>\n",
       "      <td>Western Europe</td>\n",
       "      <td>4</td>\n",
       "      <td>7.495</td>\n",
       "      <td>1.343</td>\n",
       "      <td>1.644</td>\n",
       "      <td>0.914</td>\n",
       "      <td>0.677</td>\n",
       "      <td>0.138</td>\n",
       "      <td>0.353</td>\n",
       "    </tr>\n",
       "    <tr>\n",
       "      <th>4</th>\n",
       "      <td>Switzerland</td>\n",
       "      <td>Western Europe</td>\n",
       "      <td>5</td>\n",
       "      <td>7.487</td>\n",
       "      <td>1.420</td>\n",
       "      <td>1.549</td>\n",
       "      <td>0.927</td>\n",
       "      <td>0.660</td>\n",
       "      <td>0.357</td>\n",
       "      <td>0.256</td>\n",
       "    </tr>\n",
       "  </tbody>\n",
       "</table>\n",
       "</div>"
      ],
      "text/plain": [
       "       Country          Region  Happiness Rank  Happiness Score  \\\n",
       "0      Finland  Western Europe               1            7.632   \n",
       "1       Norway  Western Europe               2            7.594   \n",
       "2      Denmark  Western Europe               3            7.555   \n",
       "3      Iceland  Western Europe               4            7.495   \n",
       "4  Switzerland  Western Europe               5            7.487   \n",
       "\n",
       "   GDP per Capita  Social Support  Healthy Life Expectancy  \\\n",
       "0           1.305           1.592                    0.874   \n",
       "1           1.456           1.582                    0.861   \n",
       "2           1.351           1.590                    0.868   \n",
       "3           1.343           1.644                    0.914   \n",
       "4           1.420           1.549                    0.927   \n",
       "\n",
       "   Freedom to Make Life Choices  Perceptions of Corruption  Generosity  \n",
       "0                         0.681                      0.393       0.202  \n",
       "1                         0.686                      0.340       0.286  \n",
       "2                         0.683                      0.408       0.284  \n",
       "3                         0.677                      0.138       0.353  \n",
       "4                         0.660                      0.357       0.256  "
      ]
     },
     "execution_count": 61,
     "metadata": {},
     "output_type": "execute_result"
    }
   ],
   "source": [
    "df_2018.head()"
   ]
  },
  {
   "cell_type": "code",
   "execution_count": 62,
   "id": "5739b702-e129-4338-a20d-b8e748ab0cab",
   "metadata": {},
   "outputs": [
    {
     "data": {
      "text/html": [
       "<div>\n",
       "<style scoped>\n",
       "    .dataframe tbody tr th:only-of-type {\n",
       "        vertical-align: middle;\n",
       "    }\n",
       "\n",
       "    .dataframe tbody tr th {\n",
       "        vertical-align: top;\n",
       "    }\n",
       "\n",
       "    .dataframe thead th {\n",
       "        text-align: right;\n",
       "    }\n",
       "</style>\n",
       "<table border=\"1\" class=\"dataframe\">\n",
       "  <thead>\n",
       "    <tr style=\"text-align: right;\">\n",
       "      <th></th>\n",
       "      <th>Country</th>\n",
       "      <th>Region</th>\n",
       "      <th>Happiness Rank</th>\n",
       "      <th>Happiness Score</th>\n",
       "      <th>GDP per Capita</th>\n",
       "      <th>Social Support</th>\n",
       "      <th>Healthy Life Expectancy</th>\n",
       "      <th>Freedom to Make Life Choices</th>\n",
       "      <th>Perceptions of Corruption</th>\n",
       "      <th>Generosity</th>\n",
       "    </tr>\n",
       "  </thead>\n",
       "  <tbody>\n",
       "    <tr>\n",
       "      <th>0</th>\n",
       "      <td>Finland</td>\n",
       "      <td>Western Europe</td>\n",
       "      <td>1</td>\n",
       "      <td>7.769</td>\n",
       "      <td>1.340</td>\n",
       "      <td>1.587</td>\n",
       "      <td>0.986</td>\n",
       "      <td>0.596</td>\n",
       "      <td>0.393</td>\n",
       "      <td>0.153</td>\n",
       "    </tr>\n",
       "    <tr>\n",
       "      <th>1</th>\n",
       "      <td>Denmark</td>\n",
       "      <td>Western Europe</td>\n",
       "      <td>2</td>\n",
       "      <td>7.600</td>\n",
       "      <td>1.383</td>\n",
       "      <td>1.573</td>\n",
       "      <td>0.996</td>\n",
       "      <td>0.592</td>\n",
       "      <td>0.410</td>\n",
       "      <td>0.252</td>\n",
       "    </tr>\n",
       "    <tr>\n",
       "      <th>2</th>\n",
       "      <td>Norway</td>\n",
       "      <td>Western Europe</td>\n",
       "      <td>3</td>\n",
       "      <td>7.554</td>\n",
       "      <td>1.488</td>\n",
       "      <td>1.582</td>\n",
       "      <td>1.028</td>\n",
       "      <td>0.603</td>\n",
       "      <td>0.341</td>\n",
       "      <td>0.271</td>\n",
       "    </tr>\n",
       "    <tr>\n",
       "      <th>3</th>\n",
       "      <td>Iceland</td>\n",
       "      <td>Western Europe</td>\n",
       "      <td>4</td>\n",
       "      <td>7.494</td>\n",
       "      <td>1.380</td>\n",
       "      <td>1.624</td>\n",
       "      <td>1.026</td>\n",
       "      <td>0.591</td>\n",
       "      <td>0.118</td>\n",
       "      <td>0.354</td>\n",
       "    </tr>\n",
       "    <tr>\n",
       "      <th>4</th>\n",
       "      <td>Netherlands</td>\n",
       "      <td>Western Europe</td>\n",
       "      <td>5</td>\n",
       "      <td>7.488</td>\n",
       "      <td>1.396</td>\n",
       "      <td>1.522</td>\n",
       "      <td>0.999</td>\n",
       "      <td>0.557</td>\n",
       "      <td>0.298</td>\n",
       "      <td>0.322</td>\n",
       "    </tr>\n",
       "  </tbody>\n",
       "</table>\n",
       "</div>"
      ],
      "text/plain": [
       "       Country          Region  Happiness Rank  Happiness Score  \\\n",
       "0      Finland  Western Europe               1            7.769   \n",
       "1      Denmark  Western Europe               2            7.600   \n",
       "2       Norway  Western Europe               3            7.554   \n",
       "3      Iceland  Western Europe               4            7.494   \n",
       "4  Netherlands  Western Europe               5            7.488   \n",
       "\n",
       "   GDP per Capita  Social Support  Healthy Life Expectancy  \\\n",
       "0           1.340           1.587                    0.986   \n",
       "1           1.383           1.573                    0.996   \n",
       "2           1.488           1.582                    1.028   \n",
       "3           1.380           1.624                    1.026   \n",
       "4           1.396           1.522                    0.999   \n",
       "\n",
       "   Freedom to Make Life Choices  Perceptions of Corruption  Generosity  \n",
       "0                         0.596                      0.393       0.153  \n",
       "1                         0.592                      0.410       0.252  \n",
       "2                         0.603                      0.341       0.271  \n",
       "3                         0.591                      0.118       0.354  \n",
       "4                         0.557                      0.298       0.322  "
      ]
     },
     "execution_count": 62,
     "metadata": {},
     "output_type": "execute_result"
    }
   ],
   "source": [
    "df_2019.head()"
   ]
  },
  {
   "cell_type": "markdown",
   "id": "62af68e0-004f-4b71-a2b4-17239e5aac29",
   "metadata": {},
   "source": [
    "#### Exporting clean data frames"
   ]
  },
  {
   "cell_type": "code",
   "execution_count": 63,
   "id": "8f805d9e-403f-4364-87e9-ae02b5fb5380",
   "metadata": {},
   "outputs": [],
   "source": [
    "df_2015.to_csv(os.path.join(path, '02 Data','Prepared Data', 'df_2015_6_4.csv'))"
   ]
  },
  {
   "cell_type": "code",
   "execution_count": 66,
   "id": "ad949c01-a6fb-4d99-abd8-540b6ba998c6",
   "metadata": {},
   "outputs": [],
   "source": [
    "df_2016.to_csv(os.path.join(path, '02 Data','Prepared Data', 'df_2016_6_4.csv'))"
   ]
  },
  {
   "cell_type": "code",
   "execution_count": 67,
   "id": "d0067476-c211-41ff-80e8-e2f4de855f49",
   "metadata": {},
   "outputs": [],
   "source": [
    "df_2017.to_csv(os.path.join(path, '02 Data','Prepared Data', 'df_2017_6_4.csv'))"
   ]
  },
  {
   "cell_type": "code",
   "execution_count": 68,
   "id": "e6e805bf-c1a9-475d-ac7b-88d9d7ae0669",
   "metadata": {},
   "outputs": [],
   "source": [
    "df_2018.to_csv(os.path.join(path, '02 Data','Prepared Data', 'df_2018_6_4.csv'))"
   ]
  },
  {
   "cell_type": "code",
   "execution_count": 69,
   "id": "09af57a3-cd8b-45b9-a2ed-1e1b18b5883f",
   "metadata": {},
   "outputs": [],
   "source": [
    "df_2019.to_csv(os.path.join(path, '02 Data','Prepared Data', 'df_2019_6_4.csv'))"
   ]
  },
  {
   "cell_type": "markdown",
   "id": "6022282b-90d5-4b8b-908c-39e1d9a5cc00",
   "metadata": {},
   "source": [
    "##### Extreme values checks"
   ]
  },
  {
   "cell_type": "code",
   "execution_count": 71,
   "id": "5643e55b-95f1-47aa-8765-628ba9570f80",
   "metadata": {},
   "outputs": [
    {
     "name": "stderr",
     "output_type": "stream",
     "text": [
      "C:\\Users\\anaar\\AppData\\Local\\Temp\\ipykernel_51708\\3612779952.py:1: UserWarning: \n",
      "\n",
      "`distplot` is a deprecated function and will be removed in seaborn v0.14.0.\n",
      "\n",
      "Please adapt your code to use either `displot` (a figure-level function with\n",
      "similar flexibility) or `histplot` (an axes-level function for histograms).\n",
      "\n",
      "For a guide to updating your code to use the new functions, please see\n",
      "https://gist.github.com/mwaskom/de44147ed2974457ad6372750bbe5751\n",
      "\n",
      "  sns.distplot(df_2015['Happiness Score'], bins=25) # Shows extreme values\n",
      "C:\\Users\\anaar\\anaconda3\\Lib\\site-packages\\seaborn\\_oldcore.py:1119: FutureWarning: use_inf_as_na option is deprecated and will be removed in a future version. Convert inf values to NaN before operating instead.\n",
      "  with pd.option_context('mode.use_inf_as_na', True):\n"
     ]
    },
    {
     "data": {
      "text/plain": [
       "<Axes: xlabel='Happiness Score', ylabel='Density'>"
      ]
     },
     "execution_count": 71,
     "metadata": {},
     "output_type": "execute_result"
    },
    {
     "data": {
      "image/png": "[encoded data removed]",
      "text/plain": [
       "<Figure size 640x480 with 1 Axes>"
      ]
     },
     "metadata": {},
     "output_type": "display_data"
    }
   ],
   "source": [
    "sns.distplot(df_2015['Happiness Score'], bins=25) # Shows extreme values\n",
    "\n",
    "# Some of the outliers in the high values may need to be removed, but let's try without doing so first."
   ]
  },
  {
   "cell_type": "code",
   "execution_count": 72,
   "id": "3bb11893-99bc-4626-85cd-6b0ebfcae208",
   "metadata": {},
   "outputs": [
    {
     "name": "stderr",
     "output_type": "stream",
     "text": [
      "C:\\Users\\anaar\\AppData\\Local\\Temp\\ipykernel_51708\\3486223871.py:1: UserWarning: \n",
      "\n",
      "`distplot` is a deprecated function and will be removed in seaborn v0.14.0.\n",
      "\n",
      "Please adapt your code to use either `displot` (a figure-level function with\n",
      "similar flexibility) or `histplot` (an axes-level function for histograms).\n",
      "\n",
      "For a guide to updating your code to use the new functions, please see\n",
      "https://gist.github.com/mwaskom/de44147ed2974457ad6372750bbe5751\n",
      "\n",
      "  sns.distplot(df_2016['Happiness Score'], bins=25) # Shows extreme values\n",
      "C:\\Users\\anaar\\anaconda3\\Lib\\site-packages\\seaborn\\_oldcore.py:1119: FutureWarning: use_inf_as_na option is deprecated and will be removed in a future version. Convert inf values to NaN before operating instead.\n",
      "  with pd.option_context('mode.use_inf_as_na', True):\n"
     ]
    },
    {
     "data": {
      "text/plain": [
       "<Axes: xlabel='Happiness Score', ylabel='Density'>"
      ]
     },
     "execution_count": 72,
     "metadata": {},
     "output_type": "execute_result"
    },
    {
     "data": {
      "image/png": "[encoded data removed]",
      "text/plain": [
       "<Figure size 640x480 with 1 Axes>"
      ]
     },
     "metadata": {},
     "output_type": "display_data"
    }
   ],
   "source": [
    "sns.distplot(df_2016['Happiness Score'], bins=25) # Shows extreme values\n",
    "\n",
    "# Some of the outliers in the high values may need to be removed, but let's try without doing so first."
   ]
  },
  {
   "cell_type": "code",
   "execution_count": 73,
   "id": "f23abb4a-ba92-4811-989d-f53b8e5898e3",
   "metadata": {},
   "outputs": [
    {
     "name": "stderr",
     "output_type": "stream",
     "text": [
      "C:\\Users\\anaar\\AppData\\Local\\Temp\\ipykernel_51708\\3295759999.py:1: UserWarning: \n",
      "\n",
      "`distplot` is a deprecated function and will be removed in seaborn v0.14.0.\n",
      "\n",
      "Please adapt your code to use either `displot` (a figure-level function with\n",
      "similar flexibility) or `histplot` (an axes-level function for histograms).\n",
      "\n",
      "For a guide to updating your code to use the new functions, please see\n",
      "https://gist.github.com/mwaskom/de44147ed2974457ad6372750bbe5751\n",
      "\n",
      "  sns.distplot(df_2017['Happiness Score'], bins=25) # Shows extreme values\n",
      "C:\\Users\\anaar\\anaconda3\\Lib\\site-packages\\seaborn\\_oldcore.py:1119: FutureWarning: use_inf_as_na option is deprecated and will be removed in a future version. Convert inf values to NaN before operating instead.\n",
      "  with pd.option_context('mode.use_inf_as_na', True):\n"
     ]
    },
    {
     "data": {
      "text/plain": [
       "<Axes: xlabel='Happiness Score', ylabel='Density'>"
      ]
     },
     "execution_count": 73,
     "metadata": {},
     "output_type": "execute_result"
    },
    {
     "data": {
      "image/png": "[encoded data removed]",
      "text/plain": [
       "<Figure size 640x480 with 1 Axes>"
      ]
     },
     "metadata": {},
     "output_type": "display_data"
    }
   ],
   "source": [
    "sns.distplot(df_2017['Happiness Score'], bins=25) # Shows extreme values\n",
    "\n",
    "# Some of the outliers in the high values may need to be removed, but let's try without doing so first."
   ]
  },
  {
   "cell_type": "code",
   "execution_count": 74,
   "id": "2b6ca2d5-dbdd-48d7-868a-ae2643ebfc10",
   "metadata": {},
   "outputs": [
    {
     "name": "stderr",
     "output_type": "stream",
     "text": [
      "C:\\Users\\anaar\\AppData\\Local\\Temp\\ipykernel_51708\\1523152327.py:1: UserWarning: \n",
      "\n",
      "`distplot` is a deprecated function and will be removed in seaborn v0.14.0.\n",
      "\n",
      "Please adapt your code to use either `displot` (a figure-level function with\n",
      "similar flexibility) or `histplot` (an axes-level function for histograms).\n",
      "\n",
      "For a guide to updating your code to use the new functions, please see\n",
      "https://gist.github.com/mwaskom/de44147ed2974457ad6372750bbe5751\n",
      "\n",
      "  sns.distplot(df_2018['Happiness Score'], bins=25) # Shows extreme values\n",
      "C:\\Users\\anaar\\anaconda3\\Lib\\site-packages\\seaborn\\_oldcore.py:1119: FutureWarning: use_inf_as_na option is deprecated and will be removed in a future version. Convert inf values to NaN before operating instead.\n",
      "  with pd.option_context('mode.use_inf_as_na', True):\n"
     ]
    },
    {
     "data": {
      "text/plain": [
       "<Axes: xlabel='Happiness Score', ylabel='Density'>"
      ]
     },
     "execution_count": 74,
     "metadata": {},
     "output_type": "execute_result"
    },
    {
     "data": {
      "image/png": "[encoded data removed]",
      "text/plain": [
       "<Figure size 640x480 with 1 Axes>"
      ]
     },
     "metadata": {},
     "output_type": "display_data"
    }
   ],
   "source": [
    "sns.distplot(df_2018['Happiness Score'], bins=25) # Shows extreme values\n",
    "\n",
    "# Some of the outliers in the high values may need to be removed, but let's try without doing so first."
   ]
  },
  {
   "cell_type": "code",
   "execution_count": 75,
   "id": "f7f5e58e-fbe0-4c9b-af72-9d15497326e8",
   "metadata": {},
   "outputs": [
    {
     "name": "stderr",
     "output_type": "stream",
     "text": [
      "C:\\Users\\anaar\\AppData\\Local\\Temp\\ipykernel_51708\\1774639371.py:1: UserWarning: \n",
      "\n",
      "`distplot` is a deprecated function and will be removed in seaborn v0.14.0.\n",
      "\n",
      "Please adapt your code to use either `displot` (a figure-level function with\n",
      "similar flexibility) or `histplot` (an axes-level function for histograms).\n",
      "\n",
      "For a guide to updating your code to use the new functions, please see\n",
      "https://gist.github.com/mwaskom/de44147ed2974457ad6372750bbe5751\n",
      "\n",
      "  sns.distplot(df_2019['Happiness Score'], bins=25) # Shows extreme values\n",
      "C:\\Users\\anaar\\anaconda3\\Lib\\site-packages\\seaborn\\_oldcore.py:1119: FutureWarning: use_inf_as_na option is deprecated and will be removed in a future version. Convert inf values to NaN before operating instead.\n",
      "  with pd.option_context('mode.use_inf_as_na', True):\n"
     ]
    },
    {
     "data": {
      "text/plain": [
       "<Axes: xlabel='Happiness Score', ylabel='Density'>"
      ]
     },
     "execution_count": 75,
     "metadata": {},
     "output_type": "execute_result"
    },
    {
     "data": {
      "image/png": "[encoded data removed]",
      "text/plain": [
       "<Figure size 640x480 with 1 Axes>"
      ]
     },
     "metadata": {},
     "output_type": "display_data"
    }
   ],
   "source": [
    "sns.distplot(df_2019['Happiness Score'], bins=25) # Shows extreme values\n",
    "\n",
    "# Some of the outliers in the high values may need to be removed, but let's try without doing so first."
   ]
  },
  {
   "cell_type": "code",
   "execution_count": 83,
   "id": "bab5c0d5-63ed-431d-8ce2-7cdeb8f3195c",
   "metadata": {},
   "outputs": [
    {
     "name": "stdout",
     "output_type": "stream",
     "text": [
      "Mean Happiness Score for 2015: 5.38\n",
      "Mean Happiness Score for 2016: 5.38\n",
      "Mean Happiness Score for 2017: 5.35\n",
      "Mean Happiness Score for 2018: 5.38\n",
      "Mean Happiness Score for 2019: 5.41\n"
     ]
    }
   ],
   "source": [
    "# Calculating mean for each dataframe\n",
    "mean_2015 = df_2015['Happiness Score'].mean()\n",
    "mean_2016 = df_2016['Happiness Score'].mean()\n",
    "mean_2017 = df_2017['Happiness Score'].mean()\n",
    "mean_2018 = df_2018['Happiness Score'].mean()\n",
    "mean_2019 = df_2019['Happiness Score'].mean()\n",
    "\n",
    "# Formatting mean values to two decimal places\n",
    "mean_2015_formatted = round(mean_2015, 2)\n",
    "mean_2016_formatted = round(mean_2016, 2)\n",
    "mean_2017_formatted = round(mean_2017, 2)\n",
    "mean_2018_formatted = round(mean_2018, 2)\n",
    "mean_2019_formatted = round(mean_2019, 2)\n",
    "\n",
    "# Printing the mean for each year\n",
    "print(\"Mean Happiness Score for 2015:\", mean_2015_formatted)\n",
    "print(\"Mean Happiness Score for 2016:\", mean_2016_formatted)\n",
    "print(\"Mean Happiness Score for 2017:\", mean_2017_formatted)\n",
    "print(\"Mean Happiness Score for 2018:\", mean_2018_formatted)\n",
    "print(\"Mean Happiness Score for 2019:\", mean_2019_formatted)"
   ]
  },
  {
   "cell_type": "code",
   "execution_count": 79,
   "id": "9ea379eb-7f3a-45b0-bb49-87f1337e7900",
   "metadata": {},
   "outputs": [
    {
     "name": "stdout",
     "output_type": "stream",
     "text": [
      "Median Happiness Score for 2015: 5.23\n",
      "Median Happiness Score for 2016: 5.31\n",
      "Median Happiness Score for 2017: 5.28\n",
      "Median Happiness Score for 2018: 5.38\n",
      "Median Happiness Score for 2019: 5.38\n"
     ]
    }
   ],
   "source": [
    "# Calculating median for each dataframe\n",
    "median_2015 = df_2015['Happiness Score'].median()\n",
    "median_2016 = df_2016['Happiness Score'].median()\n",
    "median_2017 = df_2017['Happiness Score'].median()\n",
    "median_2018 = df_2018['Happiness Score'].median()\n",
    "median_2019 = df_2019['Happiness Score'].median()\n",
    "\n",
    "# Formatting median values to two decimal places\n",
    "median_2015_formatted = round(median_2015, 2)\n",
    "median_2016_formatted = round(median_2016, 2)\n",
    "median_2017_formatted = round(median_2017, 2)\n",
    "median_2018_formatted = round(median_2018, 2)\n",
    "median_2019_formatted = round(median_2019, 2)\n",
    "\n",
    "# Printing the median for each year\n",
    "print(\"Median Happiness Score for 2015:\", median_2015_formatted)\n",
    "print(\"Median Happiness Score for 2016:\", median_2016_formatted)\n",
    "print(\"Median Happiness Score for 2017:\", median_2017_formatted)\n",
    "print(\"Median Happiness Score for 2018:\", median_2018_formatted)\n",
    "print(\"Median Happiness Score for 2019:\", median_2019_formatted)"
   ]
  },
  {
   "cell_type": "code",
   "execution_count": 86,
   "id": "8c4b4cc1-b361-4dd7-b528-5a41dabf13fd",
   "metadata": {},
   "outputs": [
    {
     "name": "stdout",
     "output_type": "stream",
     "text": [
      "Max & Min for Happiness Score:\n",
      "Year\tMax\tMin\n",
      "2015\t7.59\t2.84\n",
      "2016\t7.53\t2.9\n",
      "2017\t7.54\t2.69\n",
      "2018\t7.63\t2.9\n",
      "2019\t7.77\t2.85\n"
     ]
    }
   ],
   "source": [
    "# Calculating max for each dataframe\n",
    "max_2015 = df_2015['Happiness Score'].max()\n",
    "max_2016 = df_2016['Happiness Score'].max()\n",
    "max_2017 = df_2017['Happiness Score'].max()\n",
    "max_2018 = df_2018['Happiness Score'].max()\n",
    "max_2019 = df_2019['Happiness Score'].max()\n",
    "\n",
    "# Formatting max values to two decimal places\n",
    "max_2015_formatted = round(max_2015, 2)\n",
    "max_2016_formatted = round(max_2016, 2)\n",
    "max_2017_formatted = round(max_2017, 2)\n",
    "max_2018_formatted = round(max_2018, 2)\n",
    "max_2019_formatted = round(max_2019, 2)\n",
    "\n",
    "# Calculating min for each dataframe\n",
    "min_2015 = df_2015['Happiness Score'].min()\n",
    "min_2016 = df_2016['Happiness Score'].min()\n",
    "min_2017 = df_2017['Happiness Score'].min()\n",
    "min_2018 = df_2018['Happiness Score'].min()\n",
    "min_2019 = df_2019['Happiness Score'].min()\n",
    "\n",
    "# Formatting min values to two decimal places\n",
    "min_2015_formatted = round(min_2015, 2)\n",
    "min_2016_formatted = round(min_2016, 2)\n",
    "min_2017_formatted = round(min_2017, 2)\n",
    "min_2018_formatted = round(min_2018, 2)\n",
    "min_2019_formatted = round(min_2019, 2)\n",
    "\n",
    "# Printing the results\n",
    "print(\"Max & Min for Happiness Score:\")\n",
    "print(\"Year\\tMax\\tMin\")\n",
    "print(f\"2015\\t{max_2015_formatted}\\t{min_2015_formatted}\")\n",
    "print(f\"2016\\t{max_2016_formatted}\\t{min_2016_formatted}\")\n",
    "print(f\"2017\\t{max_2017_formatted}\\t{min_2017_formatted}\")\n",
    "print(f\"2018\\t{max_2018_formatted}\\t{min_2018_formatted}\")\n",
    "print(f\"2019\\t{max_2019_formatted}\\t{min_2019_formatted}\")\n"
   ]
  },
  {
   "cell_type": "markdown",
   "id": "3a9597c7-adbb-4f11-9a4e-e14bad150289",
   "metadata": {},
   "source": [
    "The data for Happiness score looks good, there does not seem to be any outlier."
   ]
  },
  {
   "cell_type": "markdown",
   "id": "abf2ad96-4422-4bad-8ca6-4e1e6dc245c7",
   "metadata": {},
   "source": [
    "### 3. Data prep for regression analysis "
   ]
  },
  {
   "cell_type": "code",
   "execution_count": 94,
   "id": "f14993f5-5ce6-4a9b-a046-5bee63cf75ca",
   "metadata": {},
   "outputs": [
    {
     "data": {
      "image/png": "[encoded data removed]",
      "text/plain": [
       "<Figure size 640x480 with 1 Axes>"
      ]
     },
     "metadata": {},
     "output_type": "display_data"
    }
   ],
   "source": [
    "# Create a scatterplot using matplotlib for Happiness Score and GDP\n",
    "\n",
    "df_2015.plot(x = 'GDP per Capita', y='Happiness Score',style='o') # The style option creates a scatterplot; without it, we only have lines.\n",
    "plt.title('GDP per Capita vs Happiness Score 2015')  \n",
    "plt.xlabel('GDP per Capita')  \n",
    "plt.ylabel('Happiness Score')  \n",
    "plt.show()"
   ]
  },
  {
   "cell_type": "code",
   "execution_count": 90,
   "id": "ca40b2ca-ebfd-476d-acca-5b5bdaeab495",
   "metadata": {},
   "outputs": [
    {
     "data": {
      "image/png": "[encoded data removed]",
      "text/plain": [
       "<Figure size 640x480 with 1 Axes>"
      ]
     },
     "metadata": {},
     "output_type": "display_data"
    }
   ],
   "source": [
    "# Create a scatterplot using matplotlib for another look at how the chosen variables plot against each other.\n",
    "\n",
    "df_2016.plot(x = 'GDP per Capita', y='Happiness Score',style='o') # The style option creates a scatterplot; without it, we only have lines.\n",
    "plt.title('GDP per Capita vs Happiness Score 2016')  \n",
    "plt.xlabel('GDP per Capita')  \n",
    "plt.ylabel('Happiness Score')  \n",
    "plt.show()"
   ]
  },
  {
   "cell_type": "code",
   "execution_count": 91,
   "id": "774479dc-4156-4089-b61b-06b12b18f0cc",
   "metadata": {},
   "outputs": [
    {
     "data": {
      "image/png": "[encoded data removed]",
      "text/plain": [
       "<Figure size 640x480 with 1 Axes>"
      ]
     },
     "metadata": {},
     "output_type": "display_data"
    }
   ],
   "source": [
    "# Create a scatterplot using matplotlib for another look at how the chosen variables plot against each other.\n",
    "\n",
    "df_2017.plot(x = 'GDP per Capita', y='Happiness Score',style='o') # The style option creates a scatterplot; without it, we only have lines.\n",
    "plt.title('GDP per Capita vs Happiness Score 2017')  \n",
    "plt.xlabel('GDP per Capita')  \n",
    "plt.ylabel('Happiness Score')  \n",
    "plt.show()"
   ]
  },
  {
   "cell_type": "code",
   "execution_count": 92,
   "id": "f6aa50bb-554a-48d1-b70b-a4bec7f1fd27",
   "metadata": {},
   "outputs": [
    {
     "data": {
      "image/png": "[encoded data removed]",
      "text/plain": [
       "<Figure size 640x480 with 1 Axes>"
      ]
     },
     "metadata": {},
     "output_type": "display_data"
    }
   ],
   "source": [
    "# Create a scatterplot using matplotlib for another look at how the chosen variables plot against each other.\n",
    "\n",
    "df_2018.plot(x = 'GDP per Capita', y='Happiness Score',style='o') # The style option creates a scatterplot; without it, we only have lines.\n",
    "plt.title('GDP per Capita vs Happiness Score 2018')  \n",
    "plt.xlabel('GDP per Capita')  \n",
    "plt.ylabel('Happiness Score')  \n",
    "plt.show()"
   ]
  },
  {
   "cell_type": "code",
   "execution_count": 93,
   "id": "adec72ae-b8dc-4a7b-979c-ec2b176ae80d",
   "metadata": {},
   "outputs": [
    {
     "data": {
      "image/png": "[encoded data removed]",
      "text/plain": [
       "<Figure size 640x480 with 1 Axes>"
      ]
     },
     "metadata": {},
     "output_type": "display_data"
    }
   ],
   "source": [
    "# Create a scatterplot using matplotlib for another look at how the chosen variables plot against each other.\n",
    "\n",
    "df_2019.plot(x = 'GDP per Capita', y='Happiness Score',style='o') # The style option creates a scatterplot; without it, we only have lines.\n",
    "plt.title('GDP per Capita vs Happiness Score 2019')  \n",
    "plt.xlabel('GDP per Capita')  \n",
    "plt.ylabel('Happiness Score')  \n",
    "plt.show()"
   ]
  },
  {
   "cell_type": "code",
   "execution_count": 95,
   "id": "3541f2c1-5c35-44bf-8515-18f444b2c0b1",
   "metadata": {},
   "outputs": [
    {
     "data": {
      "image/png": "[encoded data removed]",
      "text/plain": [
       "<Figure size 640x480 with 1 Axes>"
      ]
     },
     "metadata": {},
     "output_type": "display_data"
    }
   ],
   "source": [
    "# Create a scatterplot using matplotlib for Happiness Score and Healthy Life Expectancy\n",
    "\n",
    "df_2015.plot(x = 'Healthy Life Expectancy', y='Happiness Score',style='o') # The style option creates a scatterplot; without it, we only have lines.\n",
    "plt.title('Healthy Life Expectancy vs Happiness Score 2015')  \n",
    "plt.xlabel('Healthy Life Expectancy')  \n",
    "plt.ylabel('Happiness Score')  \n",
    "plt.show()"
   ]
  },
  {
   "cell_type": "code",
   "execution_count": 97,
   "id": "173735cc-8c33-48c1-b81d-aed83555b0f8",
   "metadata": {},
   "outputs": [
    {
     "data": {
      "image/png": "[encoded data removed]",
      "text/plain": [
       "<Figure size 640x480 with 1 Axes>"
      ]
     },
     "metadata": {},
     "output_type": "display_data"
    }
   ],
   "source": [
    "# Create a scatterplot using matplotlib for Happiness Score and Healthy Life Expectancy\n",
    "\n",
    "df_2016.plot(x = 'Healthy Life Expectancy', y='Happiness Score',style='o') # The style option creates a scatterplot; without it, we only have lines.\n",
    "plt.title('Healthy Life Expectancy vs Happiness Score 2016')  \n",
    "plt.xlabel('Healthy Life Expectancy')  \n",
    "plt.ylabel('Happiness Score')  \n",
    "plt.show()"
   ]
  },
  {
   "cell_type": "code",
   "execution_count": 98,
   "id": "fdae161e-b821-4347-8cc8-7dc417241151",
   "metadata": {},
   "outputs": [
    {
     "data": {
      "image/png": "[encoded data removed]",
      "text/plain": [
       "<Figure size 640x480 with 1 Axes>"
      ]
     },
     "metadata": {},
     "output_type": "display_data"
    }
   ],
   "source": [
    "# Create a scatterplot using matplotlib for Happiness Score and Healthy Life Expectancy\n",
    "\n",
    "df_2017.plot(x = 'Healthy Life Expectancy', y='Happiness Score',style='o') # The style option creates a scatterplot; without it, we only have lines.\n",
    "plt.title('Healthy Life Expectancy vs Happiness Score 2017')  \n",
    "plt.xlabel('Healthy Life Expectancy')  \n",
    "plt.ylabel('Happiness Score')  \n",
    "plt.show()"
   ]
  },
  {
   "cell_type": "code",
   "execution_count": 99,
   "id": "c17cfa54-acb5-44cb-a8ea-9ca4190f6f56",
   "metadata": {},
   "outputs": [
    {
     "data": {
      "image/png": "[encoded data removed]",
      "text/plain": [
       "<Figure size 640x480 with 1 Axes>"
      ]
     },
     "metadata": {},
     "output_type": "display_data"
    }
   ],
   "source": [
    "# Create a scatterplot using matplotlib for Happiness Score and Healthy Life Expectancy\n",
    "\n",
    "df_2018.plot(x = 'Healthy Life Expectancy', y='Happiness Score',style='o') # The style option creates a scatterplot; without it, we only have lines.\n",
    "plt.title('Healthy Life Expectancy vs Happiness Score 2018')  \n",
    "plt.xlabel('Healthy Life Expectancy')  \n",
    "plt.ylabel('Happiness Score')  \n",
    "plt.show()"
   ]
  },
  {
   "cell_type": "code",
   "execution_count": 100,
   "id": "cf9d740e-2508-4a8d-b5c0-b79ac68e727f",
   "metadata": {},
   "outputs": [
    {
     "data": {
      "image/png": "[encoded data removed]",
      "text/plain": [
       "<Figure size 640x480 with 1 Axes>"
      ]
     },
     "metadata": {},
     "output_type": "display_data"
    }
   ],
   "source": [
    "# Create a scatterplot using matplotlib for Happiness Score and Healthy Life Expectancy\n",
    "\n",
    "df_2019.plot(x = 'Healthy Life Expectancy', y='Happiness Score',style='o') # The style option creates a scatterplot; without it, we only have lines.\n",
    "plt.title('Healthy Life Expectancy vs Happiness Score 2019')  \n",
    "plt.xlabel('Healthy Life Expectancy')  \n",
    "plt.ylabel('Happiness Score')  \n",
    "plt.show()"
   ]
  },
  {
   "cell_type": "markdown",
   "id": "2d189620-a942-4891-853c-cfcabcbd01dd",
   "metadata": {},
   "source": [
    "My hypotheses are: \n",
    "1. The Happiness Score is positively correlated to GDP.\n",
    "2. GDP has a higher impact on the happiness score than the healthy life expectancy. "
   ]
  },
  {
   "cell_type": "code",
   "execution_count": 102,
   "id": "6babc0c0-fd1f-40db-94ef-64cbb76a7ad7",
   "metadata": {},
   "outputs": [],
   "source": [
    "# Reshape the variables into NumPy arrays and put them into separate objects.\n",
    "\n",
    "X = df_2015['GDP per Capita'].values.reshape(-1,1)\n",
    "y = df_2015['Happiness Score'].values.reshape(-1,1)"
   ]
  },
  {
   "cell_type": "code",
   "execution_count": 103,
   "id": "143d9153-0f8b-41c7-918a-709673968628",
   "metadata": {},
   "outputs": [
    {
     "data": {
      "text/plain": [
       "array([[1.39651],\n",
       "       [1.30232],\n",
       "       [1.32548],\n",
       "       [1.459  ],\n",
       "       [1.32629],\n",
       "       [1.29025],\n",
       "       [1.32944],\n",
       "       [1.33171],\n",
       "       [1.25018],\n",
       "       [1.33358],\n",
       "       [1.22857],\n",
       "       [0.95578],\n",
       "       [1.33723],\n",
       "       [1.02054],\n",
       "       [1.39451],\n",
       "       [0.98124],\n",
       "       [1.56391],\n",
       "       [1.33596],\n",
       "       [1.30782],\n",
       "       [1.42727],\n",
       "       [1.26637],\n",
       "       [1.36011],\n",
       "       [1.04424],\n",
       "       [1.52186],\n",
       "       [1.06353],\n",
       "       [1.32792],\n",
       "       [1.10715],\n",
       "       [1.69042],\n",
       "       [1.27778],\n",
       "       [1.05351],\n",
       "       [1.17898],\n",
       "       [1.06166],\n",
       "       [0.91861],\n",
       "       [0.9669 ],\n",
       "       [1.39541],\n",
       "       [1.23011],\n",
       "       [1.2074 ],\n",
       "       [1.29098],\n",
       "       [1.55422],\n",
       "       [0.99534],\n",
       "       [1.21183],\n",
       "       [0.76454],\n",
       "       [0.74553],\n",
       "       [0.63244],\n",
       "       [1.16891],\n",
       "       [1.27074],\n",
       "       [1.24461],\n",
       "       [0.86402],\n",
       "       [1.32376],\n",
       "       [1.25114],\n",
       "       [0.68133],\n",
       "       [0.59448],\n",
       "       [0.75985],\n",
       "       [1.12254],\n",
       "       [1.18498],\n",
       "       [1.14723],\n",
       "       [0.59325],\n",
       "       [0.90019],\n",
       "       [1.03192],\n",
       "       [1.12555],\n",
       "       [1.12486],\n",
       "       [1.08254],\n",
       "       [1.13145],\n",
       "       [1.13764],\n",
       "       [0.81038],\n",
       "       [1.20806],\n",
       "       [1.20813],\n",
       "       [0.93929],\n",
       "       [0.80148],\n",
       "       [0.95847],\n",
       "       [1.00761],\n",
       "       [1.38604],\n",
       "       [1.15174],\n",
       "       [0.82827],\n",
       "       [0.63216],\n",
       "       [1.06098],\n",
       "       [0.47428],\n",
       "       [0.65435],\n",
       "       [0.77042],\n",
       "       [1.02389],\n",
       "       [0.59543],\n",
       "       [0.90198],\n",
       "       [0.97438],\n",
       "       [0.89012],\n",
       "       [0.47038],\n",
       "       [1.04345],\n",
       "       [0.92053],\n",
       "       [1.15991],\n",
       "       [1.11312],\n",
       "       [0.70532],\n",
       "       [0.18847],\n",
       "       [0.73479],\n",
       "       [0.91851],\n",
       "       [0.08308],\n",
       "       [0.87867],\n",
       "       [0.83223],\n",
       "       [0.37545],\n",
       "       [0.89537],\n",
       "       [0.59066],\n",
       "       [0.82819],\n",
       "       [0.71206],\n",
       "       [1.15406],\n",
       "       [1.02564],\n",
       "       [1.12094],\n",
       "       [0.59532],\n",
       "       [0.39047],\n",
       "       [0.88113],\n",
       "       [0.59867],\n",
       "       [0.39753],\n",
       "       [1.0088 ],\n",
       "       [0.79907],\n",
       "       [0.98549],\n",
       "       [0.92049],\n",
       "       [0.54558],\n",
       "       [0.271  ],\n",
       "       [0.0712 ],\n",
       "       [0.64499],\n",
       "       [0.52107],\n",
       "       [0.26673],\n",
       "       [0.     ],\n",
       "       [0.35997],\n",
       "       [0.19073],\n",
       "       [0.33024],\n",
       "       [0.45407],\n",
       "       [0.36471],\n",
       "       [0.44025],\n",
       "       [0.76821],\n",
       "       [0.99355],\n",
       "       [0.27108],\n",
       "       [0.7419 ],\n",
       "       [0.01604],\n",
       "       [0.83524],\n",
       "       [0.4225 ],\n",
       "       [1.01216],\n",
       "       [0.8818 ],\n",
       "       [0.54649],\n",
       "       [0.75778],\n",
       "       [0.26074],\n",
       "       [0.67866],\n",
       "       [0.23906],\n",
       "       [0.21102],\n",
       "       [0.36498],\n",
       "       [1.06024],\n",
       "       [0.0694 ],\n",
       "       [0.46038],\n",
       "       [0.2852 ],\n",
       "       [0.20824],\n",
       "       [0.0785 ],\n",
       "       [0.34193],\n",
       "       [0.17417],\n",
       "       [0.46534],\n",
       "       [0.25812],\n",
       "       [0.31982],\n",
       "       [0.22208],\n",
       "       [0.28665],\n",
       "       [0.6632 ],\n",
       "       [0.0153 ],\n",
       "       [0.20868]])"
      ]
     },
     "execution_count": 103,
     "metadata": {},
     "output_type": "execute_result"
    }
   ],
   "source": [
    "X"
   ]
  },
  {
   "cell_type": "code",
   "execution_count": 104,
   "id": "ad2c1451-7067-42d6-b082-a11861f1e0bc",
   "metadata": {},
   "outputs": [
    {
     "data": {
      "text/plain": [
       "array([[7.587],\n",
       "       [7.561],\n",
       "       [7.527],\n",
       "       [7.522],\n",
       "       [7.427],\n",
       "       [7.406],\n",
       "       [7.378],\n",
       "       [7.364],\n",
       "       [7.286],\n",
       "       [7.284],\n",
       "       [7.278],\n",
       "       [7.226],\n",
       "       [7.2  ],\n",
       "       [7.187],\n",
       "       [7.119],\n",
       "       [6.983],\n",
       "       [6.946],\n",
       "       [6.94 ],\n",
       "       [6.937],\n",
       "       [6.901],\n",
       "       [6.867],\n",
       "       [6.853],\n",
       "       [6.81 ],\n",
       "       [6.798],\n",
       "       [6.786],\n",
       "       [6.75 ],\n",
       "       [6.67 ],\n",
       "       [6.611],\n",
       "       [6.575],\n",
       "       [6.574],\n",
       "       [6.505],\n",
       "       [6.485],\n",
       "       [6.477],\n",
       "       [6.455],\n",
       "       [6.411],\n",
       "       [6.329],\n",
       "       [6.302],\n",
       "       [6.298],\n",
       "       [6.295],\n",
       "       [6.269],\n",
       "       [6.168],\n",
       "       [6.13 ],\n",
       "       [6.123],\n",
       "       [6.003],\n",
       "       [5.995],\n",
       "       [5.987],\n",
       "       [5.984],\n",
       "       [5.975],\n",
       "       [5.96 ],\n",
       "       [5.948],\n",
       "       [5.89 ],\n",
       "       [5.889],\n",
       "       [5.878],\n",
       "       [5.855],\n",
       "       [5.848],\n",
       "       [5.833],\n",
       "       [5.828],\n",
       "       [5.824],\n",
       "       [5.813],\n",
       "       [5.791],\n",
       "       [5.77 ],\n",
       "       [5.759],\n",
       "       [5.754],\n",
       "       [5.716],\n",
       "       [5.709],\n",
       "       [5.695],\n",
       "       [5.689],\n",
       "       [5.605],\n",
       "       [5.589],\n",
       "       [5.548],\n",
       "       [5.477],\n",
       "       [5.474],\n",
       "       [5.429],\n",
       "       [5.399],\n",
       "       [5.36 ],\n",
       "       [5.332],\n",
       "       [5.286],\n",
       "       [5.268],\n",
       "       [5.253],\n",
       "       [5.212],\n",
       "       [5.194],\n",
       "       [5.192],\n",
       "       [5.192],\n",
       "       [5.14 ],\n",
       "       [5.129],\n",
       "       [5.124],\n",
       "       [5.123],\n",
       "       [5.102],\n",
       "       [5.098],\n",
       "       [5.073],\n",
       "       [5.057],\n",
       "       [5.013],\n",
       "       [5.007],\n",
       "       [4.971],\n",
       "       [4.959],\n",
       "       [4.949],\n",
       "       [4.898],\n",
       "       [4.885],\n",
       "       [4.876],\n",
       "       [4.874],\n",
       "       [4.867],\n",
       "       [4.857],\n",
       "       [4.839],\n",
       "       [4.8  ],\n",
       "       [4.788],\n",
       "       [4.786],\n",
       "       [4.739],\n",
       "       [4.715],\n",
       "       [4.694],\n",
       "       [4.686],\n",
       "       [4.681],\n",
       "       [4.677],\n",
       "       [4.642],\n",
       "       [4.633],\n",
       "       [4.61 ],\n",
       "       [4.571],\n",
       "       [4.565],\n",
       "       [4.55 ],\n",
       "       [4.518],\n",
       "       [4.517],\n",
       "       [4.514],\n",
       "       [4.512],\n",
       "       [4.507],\n",
       "       [4.436],\n",
       "       [4.419],\n",
       "       [4.369],\n",
       "       [4.35 ],\n",
       "       [4.332],\n",
       "       [4.307],\n",
       "       [4.297],\n",
       "       [4.292],\n",
       "       [4.271],\n",
       "       [4.252],\n",
       "       [4.218],\n",
       "       [4.194],\n",
       "       [4.077],\n",
       "       [4.033],\n",
       "       [3.995],\n",
       "       [3.989],\n",
       "       [3.956],\n",
       "       [3.931],\n",
       "       [3.904],\n",
       "       [3.896],\n",
       "       [3.845],\n",
       "       [3.819],\n",
       "       [3.781],\n",
       "       [3.681],\n",
       "       [3.678],\n",
       "       [3.667],\n",
       "       [3.656],\n",
       "       [3.655],\n",
       "       [3.587],\n",
       "       [3.575],\n",
       "       [3.465],\n",
       "       [3.34 ],\n",
       "       [3.006],\n",
       "       [2.905],\n",
       "       [2.839]])"
      ]
     },
     "execution_count": 104,
     "metadata": {},
     "output_type": "execute_result"
    }
   ],
   "source": [
    "y"
   ]
  },
  {
   "cell_type": "code",
   "execution_count": 105,
   "id": "a1c80de1-4ef1-4ef6-9b8f-43a77dbe0dea",
   "metadata": {},
   "outputs": [],
   "source": [
    "# Split data into a training set and a test set.\n",
    "\n",
    "X_train, X_test, y_train, y_test = train_test_split(X, y, test_size=0.3, random_state=0)"
   ]
  },
  {
   "cell_type": "markdown",
   "id": "23829104-a298-44ad-ae2b-7e1fb9fe72ed",
   "metadata": {},
   "source": [
    "### 4. Regression analysis"
   ]
  },
  {
   "cell_type": "code",
   "execution_count": 106,
   "id": "00970cee-5846-4368-a81f-908718b5395f",
   "metadata": {},
   "outputs": [],
   "source": [
    "# Create a regression object.\n",
    "\n",
    "regression = LinearRegression()  # This is the regression object, which will be fit onto the training set."
   ]
  },
  {
   "cell_type": "code",
   "execution_count": 107,
   "id": "bb173d44-d1d2-463c-9dcc-553480d7a877",
   "metadata": {},
   "outputs": [
    {
     "data": {
      "text/html": [
       "<style>#sk-container-id-1 {color: black;background-color: white;}#sk-container-id-1 pre{padding: 0;}#sk-container-id-1 div.sk-toggleable {background-color: white;}#sk-container-id-1 label.sk-toggleable__label {cursor: pointer;display: block;width: 100%;margin-bottom: 0;padding: 0.3em;box-sizing: border-box;text-align: center;}#sk-container-id-1 label.sk-toggleable__label-arrow:before {content: \"▸\";float: left;margin-right: 0.25em;color: #696969;}#sk-container-id-1 label.sk-toggleable__label-arrow:hover:before {color: black;}#sk-container-id-1 div.sk-estimator:hover label.sk-toggleable__label-arrow:before {color: black;}#sk-container-id-1 div.sk-toggleable__content {max-height: 0;max-width: 0;overflow: hidden;text-align: left;background-color: #f0f8ff;}#sk-container-id-1 div.sk-toggleable__content pre {margin: 0.2em;color: black;border-radius: 0.25em;background-color: #f0f8ff;}#sk-container-id-1 input.sk-toggleable__control:checked~div.sk-toggleable__content {max-height: 200px;max-width: 100%;overflow: auto;}#sk-container-id-1 input.sk-toggleable__control:checked~label.sk-toggleable__label-arrow:before {content: \"▾\";}#sk-container-id-1 div.sk-estimator input.sk-toggleable__control:checked~label.sk-toggleable__label {background-color: #d4ebff;}#sk-container-id-1 div.sk-label input.sk-toggleable__control:checked~label.sk-toggleable__label {background-color: #d4ebff;}#sk-container-id-1 input.sk-hidden--visually {border: 0;clip: rect(1px 1px 1px 1px);clip: rect(1px, 1px, 1px, 1px);height: 1px;margin: -1px;overflow: hidden;padding: 0;position: absolute;width: 1px;}#sk-container-id-1 div.sk-estimator {font-family: monospace;background-color: #f0f8ff;border: 1px dotted black;border-radius: 0.25em;box-sizing: border-box;margin-bottom: 0.5em;}#sk-container-id-1 div.sk-estimator:hover {background-color: #d4ebff;}#sk-container-id-1 div.sk-parallel-item::after {content: \"\";width: 100%;border-bottom: 1px solid gray;flex-grow: 1;}#sk-container-id-1 div.sk-label:hover label.sk-toggleable__label {background-color: #d4ebff;}#sk-container-id-1 div.sk-serial::before {content: \"\";position: absolute;border-left: 1px solid gray;box-sizing: border-box;top: 0;bottom: 0;left: 50%;z-index: 0;}#sk-container-id-1 div.sk-serial {display: flex;flex-direction: column;align-items: center;background-color: white;padding-right: 0.2em;padding-left: 0.2em;position: relative;}#sk-container-id-1 div.sk-item {position: relative;z-index: 1;}#sk-container-id-1 div.sk-parallel {display: flex;align-items: stretch;justify-content: center;background-color: white;position: relative;}#sk-container-id-1 div.sk-item::before, #sk-container-id-1 div.sk-parallel-item::before {content: \"\";position: absolute;border-left: 1px solid gray;box-sizing: border-box;top: 0;bottom: 0;left: 50%;z-index: -1;}#sk-container-id-1 div.sk-parallel-item {display: flex;flex-direction: column;z-index: 1;position: relative;background-color: white;}#sk-container-id-1 div.sk-parallel-item:first-child::after {align-self: flex-end;width: 50%;}#sk-container-id-1 div.sk-parallel-item:last-child::after {align-self: flex-start;width: 50%;}#sk-container-id-1 div.sk-parallel-item:only-child::after {width: 0;}#sk-container-id-1 div.sk-dashed-wrapped {border: 1px dashed gray;margin: 0 0.4em 0.5em 0.4em;box-sizing: border-box;padding-bottom: 0.4em;background-color: white;}#sk-container-id-1 div.sk-label label {font-family: monospace;font-weight: bold;display: inline-block;line-height: 1.2em;}#sk-container-id-1 div.sk-label-container {text-align: center;}#sk-container-id-1 div.sk-container {/* jupyter's `normalize.less` sets `[hidden] { display: none; }` but bootstrap.min.css set `[hidden] { display: none !important; }` so we also need the `!important` here to be able to override the default hidden behavior on the sphinx rendered scikit-learn.org. See: https://github.com/scikit-learn/scikit-learn/issues/21755 */display: inline-block !important;position: relative;}#sk-container-id-1 div.sk-text-repr-fallback {display: none;}</style><div id=\"sk-container-id-1\" class=\"sk-top-container\"><div class=\"sk-text-repr-fallback\"><pre>LinearRegression()</pre><b>In a Jupyter environment, please rerun this cell to show the HTML representation or trust the notebook. <br />On GitHub, the HTML representation is unable to render, please try loading this page with nbviewer.org.</b></div><div class=\"sk-container\" hidden><div class=\"sk-item\"><div class=\"sk-estimator sk-toggleable\"><input class=\"sk-toggleable__control sk-hidden--visually\" id=\"sk-estimator-id-1\" type=\"checkbox\" checked><label for=\"sk-estimator-id-1\" class=\"sk-toggleable__label sk-toggleable__label-arrow\">LinearRegression</label><div class=\"sk-toggleable__content\"><pre>LinearRegression()</pre></div></div></div></div></div>"
      ],
      "text/plain": [
       "LinearRegression()"
      ]
     },
     "execution_count": 107,
     "metadata": {},
     "output_type": "execute_result"
    }
   ],
   "source": [
    "# Fit the regression object onto the training set.\n",
    "\n",
    "regression.fit(X_train, y_train)"
   ]
  },
  {
   "cell_type": "code",
   "execution_count": 108,
   "id": "0c138436-6b0c-4a88-b690-eeb914c7be47",
   "metadata": {},
   "outputs": [],
   "source": [
    "# Predict the values of y using X.\n",
    "\n",
    "y_predicted = regression.predict(X_test)"
   ]
  },
  {
   "cell_type": "code",
   "execution_count": 109,
   "id": "e79c51a5-02ab-4e48-8767-cac9365fb440",
   "metadata": {},
   "outputs": [
    {
     "data": {
      "image/png": "[encoded data removed]",
      "text/plain": [
       "<Figure size 640x480 with 1 Axes>"
      ]
     },
     "metadata": {},
     "output_type": "display_data"
    }
   ],
   "source": [
    "# Create a plot that shows the regression line from the model on the test set.\n",
    "\n",
    "plot_test = plt\n",
    "plot_test.scatter(X_test, y_test, color='gray', s = 15)\n",
    "plot_test.plot(X_test, y_predicted, color='red', linewidth =3)\n",
    "plot_test.title('GDP per Capita vs Happiness Score 2015 (Test set)')\n",
    "plot_test.xlabel('GDP per Capita')\n",
    "plot_test.ylabel('Happiness Score')\n",
    "plot_test.show()"
   ]
  },
  {
   "cell_type": "code",
   "execution_count": 110,
   "id": "8b735940-3fc1-4d8a-b8f7-201bc2eab20c",
   "metadata": {},
   "outputs": [],
   "source": [
    "# Create objects that contain the model summary statistics.\n",
    "\n",
    "rmse = mean_squared_error(y_test, y_predicted) # This is the mean squared error\n",
    "r2 = r2_score(y_test, y_predicted) # This is the R2 score. "
   ]
  },
  {
   "cell_type": "code",
   "execution_count": 111,
   "id": "83be8382-ee4e-4708-86e9-3c7d0178849d",
   "metadata": {},
   "outputs": [
    {
     "name": "stdout",
     "output_type": "stream",
     "text": [
      "Slope: [[2.43123401]]\n",
      "Mean squared error:  0.5843373388848639\n",
      "R2 score:  0.4035799527921242\n"
     ]
    }
   ],
   "source": [
    "# Print the model summary statistics. This is where you evaluate the performance of the model.\n",
    "\n",
    "print('Slope:' ,regression.coef_)\n",
    "print('Mean squared error: ', rmse)\n",
    "print('R2 score: ', r2)"
   ]
  },
  {
   "cell_type": "markdown",
   "id": "3d8a8d84-6696-45ea-afc4-cedf34850352",
   "metadata": {},
   "source": [
    "Relationship of the variables:\n",
    "By looking at the slope, we can say that the GDP and the Happiness Score have a positive relationship (as GDP rises, so does the Happiness Score)\n",
    "\n",
    "How well is the model performing: \n",
    "With a MSE of 0.5843 I would say that this is a relatively small number compared to the y-Happiness score data spead (min:2.84 and max:7.59). This indicates that the model's predictions are fairly accurate on average. \n",
    "\n",
    "The R2 score of 0.4036 indicates that the model explains approximately 40% of the variance in the Happiness Score. A R2 score of 1 would indicate a perfect fit, so a R2 score of 0.4036 in our case suggests that the model explains a moderate amount of the variability in the Happiness Score based on the GDP. \n",
    "\n",
    "Overall our regression model seems to perform reasonably well. "
   ]
  },
  {
   "cell_type": "code",
   "execution_count": 112,
   "id": "0424e838-a0ef-48bd-98e8-8255b039dc41",
   "metadata": {},
   "outputs": [
    {
     "data": {
      "text/plain": [
       "array([[6.59790598],\n",
       "       [6.20210108],\n",
       "       [4.68663999],\n",
       "       [4.23537864],\n",
       "       [6.12607639],\n",
       "       [4.16309806],\n",
       "       [3.8239166 ],\n",
       "       [3.94141814],\n",
       "       [5.8128362 ],\n",
       "       [5.59332009],\n",
       "       [5.94589764],\n",
       "       [4.24755913],\n",
       "       [6.05194807],\n",
       "       [6.09500522],\n",
       "       [4.807837  ],\n",
       "       [5.53706133],\n",
       "       [5.16393985],\n",
       "       [4.79624002],\n",
       "       [5.93789888],\n",
       "       [4.80253691],\n",
       "       [6.44967364],\n",
       "       [5.7109675 ],\n",
       "       [6.09668277],\n",
       "       [6.39968747],\n",
       "       [6.30644964],\n",
       "       [6.49888182],\n",
       "       [6.16599726],\n",
       "       [6.8302347 ],\n",
       "       [4.47949885],\n",
       "       [4.32669579],\n",
       "       [4.80552733],\n",
       "       [6.24117101],\n",
       "       [7.16243851],\n",
       "       [3.39920433],\n",
       "       [5.50406949],\n",
       "       [5.89899914],\n",
       "       [3.56219426],\n",
       "       [6.29745408],\n",
       "       [5.59813393],\n",
       "       [5.49645972],\n",
       "       [7.47001393],\n",
       "       [5.75616414],\n",
       "       [5.3029335 ],\n",
       "       [5.89707846],\n",
       "       [6.5398238 ],\n",
       "       [6.11102706],\n",
       "       [6.22658361],\n",
       "       [6.72999492]])"
      ]
     },
     "execution_count": 112,
     "metadata": {},
     "output_type": "execute_result"
    }
   ],
   "source": [
    "y_predicted"
   ]
  },
  {
   "cell_type": "code",
   "execution_count": 113,
   "id": "8e34bf9e-3c12-42a5-98fc-fce66eec0057",
   "metadata": {},
   "outputs": [
    {
     "data": {
      "text/html": [
       "<div>\n",
       "<style scoped>\n",
       "    .dataframe tbody tr th:only-of-type {\n",
       "        vertical-align: middle;\n",
       "    }\n",
       "\n",
       "    .dataframe tbody tr th {\n",
       "        vertical-align: top;\n",
       "    }\n",
       "\n",
       "    .dataframe thead th {\n",
       "        text-align: right;\n",
       "    }\n",
       "</style>\n",
       "<table border=\"1\" class=\"dataframe\">\n",
       "  <thead>\n",
       "    <tr style=\"text-align: right;\">\n",
       "      <th></th>\n",
       "      <th>Actual</th>\n",
       "      <th>Predicted</th>\n",
       "    </tr>\n",
       "  </thead>\n",
       "  <tbody>\n",
       "    <tr>\n",
       "      <th>0</th>\n",
       "      <td>7.364</td>\n",
       "      <td>6.597906</td>\n",
       "    </tr>\n",
       "    <tr>\n",
       "      <th>1</th>\n",
       "      <td>5.995</td>\n",
       "      <td>6.202101</td>\n",
       "    </tr>\n",
       "    <tr>\n",
       "      <th>2</th>\n",
       "      <td>4.633</td>\n",
       "      <td>4.686640</td>\n",
       "    </tr>\n",
       "    <tr>\n",
       "      <th>3</th>\n",
       "      <td>4.514</td>\n",
       "      <td>4.235379</td>\n",
       "    </tr>\n",
       "    <tr>\n",
       "      <th>4</th>\n",
       "      <td>5.716</td>\n",
       "      <td>6.126076</td>\n",
       "    </tr>\n",
       "    <tr>\n",
       "      <th>5</th>\n",
       "      <td>4.507</td>\n",
       "      <td>4.163098</td>\n",
       "    </tr>\n",
       "    <tr>\n",
       "      <th>6</th>\n",
       "      <td>4.512</td>\n",
       "      <td>3.823917</td>\n",
       "    </tr>\n",
       "    <tr>\n",
       "      <th>7</th>\n",
       "      <td>3.956</td>\n",
       "      <td>3.941418</td>\n",
       "    </tr>\n",
       "    <tr>\n",
       "      <th>8</th>\n",
       "      <td>4.686</td>\n",
       "      <td>5.812836</td>\n",
       "    </tr>\n",
       "    <tr>\n",
       "      <th>9</th>\n",
       "      <td>5.007</td>\n",
       "      <td>5.593320</td>\n",
       "    </tr>\n",
       "    <tr>\n",
       "      <th>10</th>\n",
       "      <td>6.786</td>\n",
       "      <td>5.945898</td>\n",
       "    </tr>\n",
       "    <tr>\n",
       "      <th>11</th>\n",
       "      <td>3.904</td>\n",
       "      <td>4.247559</td>\n",
       "    </tr>\n",
       "    <tr>\n",
       "      <th>12</th>\n",
       "      <td>6.670</td>\n",
       "      <td>6.051948</td>\n",
       "    </tr>\n",
       "    <tr>\n",
       "      <th>13</th>\n",
       "      <td>5.770</td>\n",
       "      <td>6.095005</td>\n",
       "    </tr>\n",
       "    <tr>\n",
       "      <th>14</th>\n",
       "      <td>5.194</td>\n",
       "      <td>4.807837</td>\n",
       "    </tr>\n",
       "    <tr>\n",
       "      <th>15</th>\n",
       "      <td>4.885</td>\n",
       "      <td>5.537061</td>\n",
       "    </tr>\n",
       "    <tr>\n",
       "      <th>16</th>\n",
       "      <td>4.297</td>\n",
       "      <td>5.163940</td>\n",
       "    </tr>\n",
       "    <tr>\n",
       "      <th>17</th>\n",
       "      <td>4.876</td>\n",
       "      <td>4.796240</td>\n",
       "    </tr>\n",
       "    <tr>\n",
       "      <th>18</th>\n",
       "      <td>3.896</td>\n",
       "      <td>5.937899</td>\n",
       "    </tr>\n",
       "    <tr>\n",
       "      <th>19</th>\n",
       "      <td>5.828</td>\n",
       "      <td>4.802537</td>\n",
       "    </tr>\n",
       "    <tr>\n",
       "      <th>20</th>\n",
       "      <td>5.987</td>\n",
       "      <td>6.449674</td>\n",
       "    </tr>\n",
       "    <tr>\n",
       "      <th>21</th>\n",
       "      <td>6.455</td>\n",
       "      <td>5.710967</td>\n",
       "    </tr>\n",
       "    <tr>\n",
       "      <th>22</th>\n",
       "      <td>5.791</td>\n",
       "      <td>6.096683</td>\n",
       "    </tr>\n",
       "    <tr>\n",
       "      <th>23</th>\n",
       "      <td>7.286</td>\n",
       "      <td>6.399687</td>\n",
       "    </tr>\n",
       "    <tr>\n",
       "      <th>24</th>\n",
       "      <td>6.168</td>\n",
       "      <td>6.306450</td>\n",
       "    </tr>\n",
       "    <tr>\n",
       "      <th>25</th>\n",
       "      <td>6.298</td>\n",
       "      <td>6.498882</td>\n",
       "    </tr>\n",
       "    <tr>\n",
       "      <th>26</th>\n",
       "      <td>4.857</td>\n",
       "      <td>6.165997</td>\n",
       "    </tr>\n",
       "    <tr>\n",
       "      <th>27</th>\n",
       "      <td>6.901</td>\n",
       "      <td>6.830235</td>\n",
       "    </tr>\n",
       "    <tr>\n",
       "      <th>28</th>\n",
       "      <td>3.819</td>\n",
       "      <td>4.479499</td>\n",
       "    </tr>\n",
       "    <tr>\n",
       "      <th>29</th>\n",
       "      <td>4.694</td>\n",
       "      <td>4.326696</td>\n",
       "    </tr>\n",
       "  </tbody>\n",
       "</table>\n",
       "</div>"
      ],
      "text/plain": [
       "    Actual  Predicted\n",
       "0    7.364   6.597906\n",
       "1    5.995   6.202101\n",
       "2    4.633   4.686640\n",
       "3    4.514   4.235379\n",
       "4    5.716   6.126076\n",
       "5    4.507   4.163098\n",
       "6    4.512   3.823917\n",
       "7    3.956   3.941418\n",
       "8    4.686   5.812836\n",
       "9    5.007   5.593320\n",
       "10   6.786   5.945898\n",
       "11   3.904   4.247559\n",
       "12   6.670   6.051948\n",
       "13   5.770   6.095005\n",
       "14   5.194   4.807837\n",
       "15   4.885   5.537061\n",
       "16   4.297   5.163940\n",
       "17   4.876   4.796240\n",
       "18   3.896   5.937899\n",
       "19   5.828   4.802537\n",
       "20   5.987   6.449674\n",
       "21   6.455   5.710967\n",
       "22   5.791   6.096683\n",
       "23   7.286   6.399687\n",
       "24   6.168   6.306450\n",
       "25   6.298   6.498882\n",
       "26   4.857   6.165997\n",
       "27   6.901   6.830235\n",
       "28   3.819   4.479499\n",
       "29   4.694   4.326696"
      ]
     },
     "execution_count": 113,
     "metadata": {},
     "output_type": "execute_result"
    }
   ],
   "source": [
    "# Create a dataframe comparing the actual and predicted values of y.\n",
    "\n",
    "data = pd.DataFrame({'Actual': y_test.flatten(), 'Predicted': y_predicted.flatten()})\n",
    "data.head(30)"
   ]
  },
  {
   "cell_type": "markdown",
   "id": "f9b87d47-2d6a-4d9e-a190-9f6c12b6d20f",
   "metadata": {},
   "source": [
    "##### Compare how the regression fits the training set"
   ]
  },
  {
   "cell_type": "code",
   "execution_count": 115,
   "id": "39d93cf2-6a46-4237-aefb-4039d27b7eee",
   "metadata": {},
   "outputs": [],
   "source": [
    "# Predict.\n",
    "\n",
    "y_predicted_train = regression.predict(X_train) # This is predicting X_train!"
   ]
  },
  {
   "cell_type": "code",
   "execution_count": 116,
   "id": "43860c35-4238-4eab-8e44-a87c0108d186",
   "metadata": {},
   "outputs": [],
   "source": [
    "rmse = mean_squared_error(y_train, y_predicted_train)\n",
    "r2 = r2_score(y_train, y_predicted_train)"
   ]
  },
  {
   "cell_type": "code",
   "execution_count": 117,
   "id": "b748c4fd-2a26-4624-ae92-b15b08cf6f1d",
   "metadata": {},
   "outputs": [
    {
     "name": "stdout",
     "output_type": "stream",
     "text": [
      "Slope: [[2.43123401]]\n",
      "Mean squared error:  0.4879802716402545\n",
      "R2 score:  0.6613317055208155\n"
     ]
    }
   ],
   "source": [
    "print('Slope:' ,regression.coef_)\n",
    "print('Mean squared error: ', rmse)\n",
    "print('R2 score: ', r2)"
   ]
  },
  {
   "cell_type": "code",
   "execution_count": 118,
   "id": "25312684-672b-4502-b903-01c054539e3f",
   "metadata": {},
   "outputs": [
    {
     "data": {
      "image/png": "[encoded data removed]",
      "text/plain": [
       "<Figure size 640x480 with 1 Axes>"
      ]
     },
     "metadata": {},
     "output_type": "display_data"
    }
   ],
   "source": [
    "# Visualizing the training set results.\n",
    "\n",
    "plot_test = plt\n",
    "plot_test.scatter(X_train, y_train, color='green', s = 15)\n",
    "plot_test.plot(X_train, y_predicted_train, color='red', linewidth =3)\n",
    "plot_test.title('GDP per Capita vs Happiness Score (Train set)')\n",
    "plot_test.xlabel('GDP per Capita')\n",
    "plot_test.ylabel('Happiness Score')\n",
    "plot_test.show()"
   ]
  },
  {
   "cell_type": "markdown",
   "id": "62936fdb-3204-456f-9eb1-0505a51b9bbf",
   "metadata": {},
   "source": [
    "Trained Set:\n",
    "\n",
    "Slope: 2.43123401\n",
    "Mean Squared Error (MSE): 0.4879802716402545\n",
    "R2 Score: 0.6613317055208155\n",
    "\n",
    "Test Set:\n",
    "\n",
    "Slope: 2.43123401\n",
    "Mean Squared Error (MSE): 0.5843373388848639\n",
    "R2 Score: 0.4035799527921242\n",
    "\n",
    "Possible explanations for the changes:\n",
    "\n",
    "Slope: The slope remained the same for both the trained and test sets this indicates that the relationship between GDP and Happiness Score is consistent across both sets.\n",
    "\n",
    "Mean Squared Error (MSE): The MSE on the test set (0.5843) is slightly higher than that on the trained set (0.4880). The model's predictions have slightly higher errors on the test set compared to the trained set. When researching I found that it's common for models to perform slightly worse on unseen data (test set) compared to the data used for training.\n",
    "\n",
    "R2 Score: The R2 score on the test set (0.4036) is lower than that on the trained set (0.6613). The model's ability to explain the variance in the Happiness Score based on GDP is lower when applied to the test set compared to the trained set. A lower R2 score on the test set suggests that the model might not generalize as well to unseen data.\n",
    "\n",
    "Overall, while the model performs reasonably well on both the trained and test sets, the performance is worse on the test set compared to the trained set. This suggests that the model may not generalize perfectly to unseen data and could be improved by evaluating additional data."
   ]
  },
  {
   "cell_type": "markdown",
   "id": "0301544e-d100-4b79-af26-ebeb803c268c",
   "metadata": {},
   "source": [
    "#### Running the regression analysis again between Healthy life expectancy and Happpiness Score"
   ]
  },
  {
   "cell_type": "code",
   "execution_count": 121,
   "id": "4f43d598-8c2a-4d72-975a-4e8fb9fbea0e",
   "metadata": {},
   "outputs": [],
   "source": [
    "# Reshape the variables into NumPy arrays and put them into separate objects.\n",
    "\n",
    "X1 = df_2015['Healthy Life Expectancy'].values.reshape(-1,1)\n",
    "y1 = df_2015['Happiness Score'].values.reshape(-1,1)"
   ]
  },
  {
   "cell_type": "code",
   "execution_count": 123,
   "id": "1e8d7877-08ed-42e0-a988-89de74c6ce61",
   "metadata": {},
   "outputs": [
    {
     "data": {
      "text/plain": [
       "array([[0.94143],\n",
       "       [0.94784],\n",
       "       [0.87464],\n",
       "       [0.88521],\n",
       "       [0.90563],\n",
       "       [0.88911],\n",
       "       [0.89284],\n",
       "       [0.91087],\n",
       "       [0.90837],\n",
       "       [0.93156],\n",
       "       [0.91387],\n",
       "       [0.86027],\n",
       "       [0.89042],\n",
       "       [0.81444],\n",
       "       [0.86179],\n",
       "       [0.69702],\n",
       "       [0.91894],\n",
       "       [0.89533],\n",
       "       [0.89667],\n",
       "       [0.80925],\n",
       "       [0.90943],\n",
       "       [0.76276],\n",
       "       [0.72052],\n",
       "       [1.02525],\n",
       "       [0.79661],\n",
       "       [0.89186],\n",
       "       [0.85857],\n",
       "       [0.79733],\n",
       "       [0.94579],\n",
       "       [0.78723],\n",
       "       [0.84483],\n",
       "       [0.8116 ],\n",
       "       [0.69077],\n",
       "       [0.7385 ],\n",
       "       [0.72025],\n",
       "       [0.95562],\n",
       "       [0.88721],\n",
       "       [0.8753 ],\n",
       "       [0.72492],\n",
       "       [0.6082 ],\n",
       "       [0.61483],\n",
       "       [0.67737],\n",
       "       [0.64425],\n",
       "       [0.59772],\n",
       "       [0.78902],\n",
       "       [0.99111],\n",
       "       [0.96538],\n",
       "       [0.79075],\n",
       "       [0.74716],\n",
       "       [0.95446],\n",
       "       [0.5392 ],\n",
       "       [0.61826],\n",
       "       [0.66098],\n",
       "       [0.64368],\n",
       "       [0.87337],\n",
       "       [0.73128],\n",
       "       [0.74314],\n",
       "       [0.73017],\n",
       "       [0.73608],\n",
       "       [0.77903],\n",
       "       [0.72394],\n",
       "       [0.78805],\n",
       "       [0.7038 ],\n",
       "       [0.66926],\n",
       "       [0.68741],\n",
       "       [0.92356],\n",
       "       [0.92356],\n",
       "       [0.61766],\n",
       "       [0.63132],\n",
       "       [0.53886],\n",
       "       [0.7095 ],\n",
       "       [1.01328],\n",
       "       [0.77361],\n",
       "       [0.63793],\n",
       "       [0.74676],\n",
       "       [0.73172],\n",
       "       [0.65088],\n",
       "       [0.16007],\n",
       "       [0.57407],\n",
       "       [0.64045],\n",
       "       [0.51466],\n",
       "       [0.69639],\n",
       "       [0.72521],\n",
       "       [0.81658],\n",
       "       [0.29924],\n",
       "       [0.7689 ],\n",
       "       [0.74836],\n",
       "       [0.87519],\n",
       "       [0.72437],\n",
       "       [0.58114],\n",
       "       [0.43873],\n",
       "       [0.60954],\n",
       "       [0.73545],\n",
       "       [0.09131],\n",
       "       [0.81325],\n",
       "       [0.79081],\n",
       "       [0.07612],\n",
       "       [0.66825],\n",
       "       [0.54909],\n",
       "       [0.60268],\n",
       "       [0.07566],\n",
       "       [0.88213],\n",
       "       [0.83947],\n",
       "       [0.75905],\n",
       "       [0.6951 ],\n",
       "       [0.57379],\n",
       "       [0.73793],\n",
       "       [0.66015],\n",
       "       [0.60164],\n",
       "       [0.69805],\n",
       "       [0.6739 ],\n",
       "       [0.60237],\n",
       "       [0.27688],\n",
       "       [0.40132],\n",
       "       [0.33475],\n",
       "       [0.34201],\n",
       "       [0.51529],\n",
       "       [0.36878],\n",
       "       [0.38847],\n",
       "       [0.09806],\n",
       "       [0.56874],\n",
       "       [0.44055],\n",
       "       [0.     ],\n",
       "       [0.35874],\n",
       "       [0.41435],\n",
       "       [0.36291],\n",
       "       [0.7299 ],\n",
       "       [0.04776],\n",
       "       [0.48246],\n",
       "       [0.72926],\n",
       "       [0.22562],\n",
       "       [0.70806],\n",
       "       [0.23402],\n",
       "       [0.76649],\n",
       "       [0.61712],\n",
       "       [0.40064],\n",
       "       [0.16683],\n",
       "       [0.20583],\n",
       "       [0.31051],\n",
       "       [0.36315],\n",
       "       [0.33861],\n",
       "       [0.4354 ],\n",
       "       [0.43372],\n",
       "       [0.29707],\n",
       "       [0.61114],\n",
       "       [0.38215],\n",
       "       [0.46721],\n",
       "       [0.06699],\n",
       "       [0.1501 ],\n",
       "       [0.24009],\n",
       "       [0.15185],\n",
       "       [0.27125],\n",
       "       [0.30335],\n",
       "       [0.42864],\n",
       "       [0.3191 ],\n",
       "       [0.72193],\n",
       "       [0.22396],\n",
       "       [0.28443]])"
      ]
     },
     "execution_count": 123,
     "metadata": {},
     "output_type": "execute_result"
    }
   ],
   "source": [
    "X1"
   ]
  },
  {
   "cell_type": "code",
   "execution_count": 124,
   "id": "478a0b14-7eae-4628-8627-37058d94eed4",
   "metadata": {},
   "outputs": [
    {
     "data": {
      "text/plain": [
       "array([[7.587],\n",
       "       [7.561],\n",
       "       [7.527],\n",
       "       [7.522],\n",
       "       [7.427],\n",
       "       [7.406],\n",
       "       [7.378],\n",
       "       [7.364],\n",
       "       [7.286],\n",
       "       [7.284],\n",
       "       [7.278],\n",
       "       [7.226],\n",
       "       [7.2  ],\n",
       "       [7.187],\n",
       "       [7.119],\n",
       "       [6.983],\n",
       "       [6.946],\n",
       "       [6.94 ],\n",
       "       [6.937],\n",
       "       [6.901],\n",
       "       [6.867],\n",
       "       [6.853],\n",
       "       [6.81 ],\n",
       "       [6.798],\n",
       "       [6.786],\n",
       "       [6.75 ],\n",
       "       [6.67 ],\n",
       "       [6.611],\n",
       "       [6.575],\n",
       "       [6.574],\n",
       "       [6.505],\n",
       "       [6.485],\n",
       "       [6.477],\n",
       "       [6.455],\n",
       "       [6.411],\n",
       "       [6.329],\n",
       "       [6.302],\n",
       "       [6.298],\n",
       "       [6.295],\n",
       "       [6.269],\n",
       "       [6.168],\n",
       "       [6.13 ],\n",
       "       [6.123],\n",
       "       [6.003],\n",
       "       [5.995],\n",
       "       [5.987],\n",
       "       [5.984],\n",
       "       [5.975],\n",
       "       [5.96 ],\n",
       "       [5.948],\n",
       "       [5.89 ],\n",
       "       [5.889],\n",
       "       [5.878],\n",
       "       [5.855],\n",
       "       [5.848],\n",
       "       [5.833],\n",
       "       [5.828],\n",
       "       [5.824],\n",
       "       [5.813],\n",
       "       [5.791],\n",
       "       [5.77 ],\n",
       "       [5.759],\n",
       "       [5.754],\n",
       "       [5.716],\n",
       "       [5.709],\n",
       "       [5.695],\n",
       "       [5.689],\n",
       "       [5.605],\n",
       "       [5.589],\n",
       "       [5.548],\n",
       "       [5.477],\n",
       "       [5.474],\n",
       "       [5.429],\n",
       "       [5.399],\n",
       "       [5.36 ],\n",
       "       [5.332],\n",
       "       [5.286],\n",
       "       [5.268],\n",
       "       [5.253],\n",
       "       [5.212],\n",
       "       [5.194],\n",
       "       [5.192],\n",
       "       [5.192],\n",
       "       [5.14 ],\n",
       "       [5.129],\n",
       "       [5.124],\n",
       "       [5.123],\n",
       "       [5.102],\n",
       "       [5.098],\n",
       "       [5.073],\n",
       "       [5.057],\n",
       "       [5.013],\n",
       "       [5.007],\n",
       "       [4.971],\n",
       "       [4.959],\n",
       "       [4.949],\n",
       "       [4.898],\n",
       "       [4.885],\n",
       "       [4.876],\n",
       "       [4.874],\n",
       "       [4.867],\n",
       "       [4.857],\n",
       "       [4.839],\n",
       "       [4.8  ],\n",
       "       [4.788],\n",
       "       [4.786],\n",
       "       [4.739],\n",
       "       [4.715],\n",
       "       [4.694],\n",
       "       [4.686],\n",
       "       [4.681],\n",
       "       [4.677],\n",
       "       [4.642],\n",
       "       [4.633],\n",
       "       [4.61 ],\n",
       "       [4.571],\n",
       "       [4.565],\n",
       "       [4.55 ],\n",
       "       [4.518],\n",
       "       [4.517],\n",
       "       [4.514],\n",
       "       [4.512],\n",
       "       [4.507],\n",
       "       [4.436],\n",
       "       [4.419],\n",
       "       [4.369],\n",
       "       [4.35 ],\n",
       "       [4.332],\n",
       "       [4.307],\n",
       "       [4.297],\n",
       "       [4.292],\n",
       "       [4.271],\n",
       "       [4.252],\n",
       "       [4.218],\n",
       "       [4.194],\n",
       "       [4.077],\n",
       "       [4.033],\n",
       "       [3.995],\n",
       "       [3.989],\n",
       "       [3.956],\n",
       "       [3.931],\n",
       "       [3.904],\n",
       "       [3.896],\n",
       "       [3.845],\n",
       "       [3.819],\n",
       "       [3.781],\n",
       "       [3.681],\n",
       "       [3.678],\n",
       "       [3.667],\n",
       "       [3.656],\n",
       "       [3.655],\n",
       "       [3.587],\n",
       "       [3.575],\n",
       "       [3.465],\n",
       "       [3.34 ],\n",
       "       [3.006],\n",
       "       [2.905],\n",
       "       [2.839]])"
      ]
     },
     "execution_count": 124,
     "metadata": {},
     "output_type": "execute_result"
    }
   ],
   "source": [
    "y1"
   ]
  },
  {
   "cell_type": "code",
   "execution_count": 122,
   "id": "28488bf2-a6f1-4193-9521-21811c14d17a",
   "metadata": {},
   "outputs": [],
   "source": [
    "# Split data into a training set and a test set.\n",
    "\n",
    "X1_train, X1_test, y1_train, y1_test = train_test_split(X1, y1, test_size=0.3, random_state=0)"
   ]
  },
  {
   "cell_type": "markdown",
   "id": "02375c8f-a4f3-410a-adf3-a761aa53e5d6",
   "metadata": {},
   "source": [
    "#### Regression Analysis"
   ]
  },
  {
   "cell_type": "code",
   "execution_count": 125,
   "id": "8c7c0bf8-8f47-404f-9cdd-b6240bf5c2cf",
   "metadata": {},
   "outputs": [],
   "source": [
    "# Create a regression object.\n",
    "\n",
    "regression = LinearRegression()  # This is the regression object, which will be fit onto the training set."
   ]
  },
  {
   "cell_type": "code",
   "execution_count": 126,
   "id": "24f205ae-ba2e-4c68-896b-81aea385decf",
   "metadata": {},
   "outputs": [
    {
     "data": {
      "text/html": [
       "<style>#sk-container-id-2 {color: black;background-color: white;}#sk-container-id-2 pre{padding: 0;}#sk-container-id-2 div.sk-toggleable {background-color: white;}#sk-container-id-2 label.sk-toggleable__label {cursor: pointer;display: block;width: 100%;margin-bottom: 0;padding: 0.3em;box-sizing: border-box;text-align: center;}#sk-container-id-2 label.sk-toggleable__label-arrow:before {content: \"▸\";float: left;margin-right: 0.25em;color: #696969;}#sk-container-id-2 label.sk-toggleable__label-arrow:hover:before {color: black;}#sk-container-id-2 div.sk-estimator:hover label.sk-toggleable__label-arrow:before {color: black;}#sk-container-id-2 div.sk-toggleable__content {max-height: 0;max-width: 0;overflow: hidden;text-align: left;background-color: #f0f8ff;}#sk-container-id-2 div.sk-toggleable__content pre {margin: 0.2em;color: black;border-radius: 0.25em;background-color: #f0f8ff;}#sk-container-id-2 input.sk-toggleable__control:checked~div.sk-toggleable__content {max-height: 200px;max-width: 100%;overflow: auto;}#sk-container-id-2 input.sk-toggleable__control:checked~label.sk-toggleable__label-arrow:before {content: \"▾\";}#sk-container-id-2 div.sk-estimator input.sk-toggleable__control:checked~label.sk-toggleable__label {background-color: #d4ebff;}#sk-container-id-2 div.sk-label input.sk-toggleable__control:checked~label.sk-toggleable__label {background-color: #d4ebff;}#sk-container-id-2 input.sk-hidden--visually {border: 0;clip: rect(1px 1px 1px 1px);clip: rect(1px, 1px, 1px, 1px);height: 1px;margin: -1px;overflow: hidden;padding: 0;position: absolute;width: 1px;}#sk-container-id-2 div.sk-estimator {font-family: monospace;background-color: #f0f8ff;border: 1px dotted black;border-radius: 0.25em;box-sizing: border-box;margin-bottom: 0.5em;}#sk-container-id-2 div.sk-estimator:hover {background-color: #d4ebff;}#sk-container-id-2 div.sk-parallel-item::after {content: \"\";width: 100%;border-bottom: 1px solid gray;flex-grow: 1;}#sk-container-id-2 div.sk-label:hover label.sk-toggleable__label {background-color: #d4ebff;}#sk-container-id-2 div.sk-serial::before {content: \"\";position: absolute;border-left: 1px solid gray;box-sizing: border-box;top: 0;bottom: 0;left: 50%;z-index: 0;}#sk-container-id-2 div.sk-serial {display: flex;flex-direction: column;align-items: center;background-color: white;padding-right: 0.2em;padding-left: 0.2em;position: relative;}#sk-container-id-2 div.sk-item {position: relative;z-index: 1;}#sk-container-id-2 div.sk-parallel {display: flex;align-items: stretch;justify-content: center;background-color: white;position: relative;}#sk-container-id-2 div.sk-item::before, #sk-container-id-2 div.sk-parallel-item::before {content: \"\";position: absolute;border-left: 1px solid gray;box-sizing: border-box;top: 0;bottom: 0;left: 50%;z-index: -1;}#sk-container-id-2 div.sk-parallel-item {display: flex;flex-direction: column;z-index: 1;position: relative;background-color: white;}#sk-container-id-2 div.sk-parallel-item:first-child::after {align-self: flex-end;width: 50%;}#sk-container-id-2 div.sk-parallel-item:last-child::after {align-self: flex-start;width: 50%;}#sk-container-id-2 div.sk-parallel-item:only-child::after {width: 0;}#sk-container-id-2 div.sk-dashed-wrapped {border: 1px dashed gray;margin: 0 0.4em 0.5em 0.4em;box-sizing: border-box;padding-bottom: 0.4em;background-color: white;}#sk-container-id-2 div.sk-label label {font-family: monospace;font-weight: bold;display: inline-block;line-height: 1.2em;}#sk-container-id-2 div.sk-label-container {text-align: center;}#sk-container-id-2 div.sk-container {/* jupyter's `normalize.less` sets `[hidden] { display: none; }` but bootstrap.min.css set `[hidden] { display: none !important; }` so we also need the `!important` here to be able to override the default hidden behavior on the sphinx rendered scikit-learn.org. See: https://github.com/scikit-learn/scikit-learn/issues/21755 */display: inline-block !important;position: relative;}#sk-container-id-2 div.sk-text-repr-fallback {display: none;}</style><div id=\"sk-container-id-2\" class=\"sk-top-container\"><div class=\"sk-text-repr-fallback\"><pre>LinearRegression()</pre><b>In a Jupyter environment, please rerun this cell to show the HTML representation or trust the notebook. <br />On GitHub, the HTML representation is unable to render, please try loading this page with nbviewer.org.</b></div><div class=\"sk-container\" hidden><div class=\"sk-item\"><div class=\"sk-estimator sk-toggleable\"><input class=\"sk-toggleable__control sk-hidden--visually\" id=\"sk-estimator-id-2\" type=\"checkbox\" checked><label for=\"sk-estimator-id-2\" class=\"sk-toggleable__label sk-toggleable__label-arrow\">LinearRegression</label><div class=\"sk-toggleable__content\"><pre>LinearRegression()</pre></div></div></div></div></div>"
      ],
      "text/plain": [
       "LinearRegression()"
      ]
     },
     "execution_count": 126,
     "metadata": {},
     "output_type": "execute_result"
    }
   ],
   "source": [
    "# Fit the regression object onto the training set.\n",
    "\n",
    "regression.fit(X1_train, y1_train)"
   ]
  },
  {
   "cell_type": "code",
   "execution_count": 127,
   "id": "187cdbbf-8b84-4e66-aec9-03e6b79a00b8",
   "metadata": {},
   "outputs": [],
   "source": [
    "# Predict the values of y using X.\n",
    "\n",
    "y1_predicted = regression.predict(X1_test)"
   ]
  },
  {
   "cell_type": "code",
   "execution_count": 129,
   "id": "69086aed-66a9-44b4-b84f-228a1e446434",
   "metadata": {},
   "outputs": [
    {
     "data": {
      "image/png": "[encoded data removed]",
      "text/plain": [
       "<Figure size 640x480 with 1 Axes>"
      ]
     },
     "metadata": {},
     "output_type": "display_data"
    }
   ],
   "source": [
    "# Create a plot that shows the regression line from the model on the test set.\n",
    "\n",
    "plot_test = plt\n",
    "plot_test.scatter(X1_test, y1_test, color='gray', s = 15)\n",
    "plot_test.plot(X1_test, y1_predicted, color='red', linewidth =3)\n",
    "plot_test.title('Healthy Life Expectancy vs Happiness Score 2015 (Test set)')\n",
    "plot_test.xlabel('Healthy Life Expectancy')\n",
    "plot_test.ylabel('Happiness Score')\n",
    "plot_test.show()"
   ]
  },
  {
   "cell_type": "code",
   "execution_count": 132,
   "id": "2b5bd59f-02e2-4d16-a34b-50e7e7476746",
   "metadata": {},
   "outputs": [],
   "source": [
    "# Create objects that contain the model summary statistics.\n",
    "\n",
    "rmse_health_happiness = mean_squared_error(y1_test, y1_predicted) # This is the mean squared error\n",
    "r2 = r2_score(y1_test, y1_predicted) # This is the R2 score. "
   ]
  },
  {
   "cell_type": "code",
   "execution_count": 134,
   "id": "dcf65c06-c469-4ca7-b96c-a489f24f3650",
   "metadata": {},
   "outputs": [
    {
     "name": "stdout",
     "output_type": "stream",
     "text": [
      "Slope: [[3.55646913]]\n",
      "Mean squared error:  0.6177524296278911\n",
      "R2 score:  0.36947391733588475\n"
     ]
    }
   ],
   "source": [
    "# Print the model summary statistics. This is where you evaluate the performance of the model.\n",
    "\n",
    "print('Slope:' ,regression.coef_)\n",
    "print('Mean squared error: ', rmse_health_happiness)\n",
    "print('R2 score: ', r2)"
   ]
  },
  {
   "cell_type": "code",
   "execution_count": 136,
   "id": "8b97edfb-6f91-4765-b1b1-c683148ae79d",
   "metadata": {},
   "outputs": [
    {
     "data": {
      "text/plain": [
       "array([[6.40806902],\n",
       "       [5.97471326],\n",
       "       [4.59587018],\n",
       "       [5.19129424],\n",
       "       [5.54879052],\n",
       "       [3.16858799],\n",
       "       [4.73539046],\n",
       "       [4.46011975],\n",
       "       [5.65118126],\n",
       "       [5.78419321],\n",
       "       [6.00170686],\n",
       "       [4.71707465],\n",
       "       [6.22206569],\n",
       "       [5.74325825],\n",
       "       [4.99896039],\n",
       "       [5.54519848],\n",
       "       [5.76217867],\n",
       "       [5.12140962],\n",
       "       [4.71109978],\n",
       "       [5.81154246],\n",
       "       [6.69344011],\n",
       "       [5.79504044],\n",
       "       [5.93918413],\n",
       "       [6.39917785],\n",
       "       [5.3552119 ],\n",
       "       [6.28156542],\n",
       "       [6.3058561 ],\n",
       "       [6.04666063],\n",
       "       [5.34208853],\n",
       "       [5.30830208],\n",
       "       [5.36741059],\n",
       "       [6.27470143],\n",
       "       [6.43676973],\n",
       "       [3.97099856],\n",
       "       [5.36335622],\n",
       "       [5.73109513],\n",
       "       [3.49332919],\n",
       "       [6.45320062],\n",
       "       [4.15330316],\n",
       "       [6.06088651],\n",
       "       [6.00426752],\n",
       "       [5.3108983 ],\n",
       "       [5.56529254],\n",
       "       [5.9031571 ],\n",
       "       [6.35756716],\n",
       "       [5.67163096],\n",
       "       [6.1731998 ],\n",
       "       [6.77228703]])"
      ]
     },
     "execution_count": 136,
     "metadata": {},
     "output_type": "execute_result"
    }
   ],
   "source": [
    "y1_predicted"
   ]
  },
  {
   "cell_type": "code",
   "execution_count": 137,
   "id": "50667eae-6a5a-4cfa-b65e-de5fa65cbdb5",
   "metadata": {},
   "outputs": [
    {
     "data": {
      "text/html": [
       "<div>\n",
       "<style scoped>\n",
       "    .dataframe tbody tr th:only-of-type {\n",
       "        vertical-align: middle;\n",
       "    }\n",
       "\n",
       "    .dataframe tbody tr th {\n",
       "        vertical-align: top;\n",
       "    }\n",
       "\n",
       "    .dataframe thead th {\n",
       "        text-align: right;\n",
       "    }\n",
       "</style>\n",
       "<table border=\"1\" class=\"dataframe\">\n",
       "  <thead>\n",
       "    <tr style=\"text-align: right;\">\n",
       "      <th></th>\n",
       "      <th>Actual</th>\n",
       "      <th>Predicted</th>\n",
       "    </tr>\n",
       "  </thead>\n",
       "  <tbody>\n",
       "    <tr>\n",
       "      <th>0</th>\n",
       "      <td>7.364</td>\n",
       "      <td>6.408069</td>\n",
       "    </tr>\n",
       "    <tr>\n",
       "      <th>1</th>\n",
       "      <td>5.995</td>\n",
       "      <td>5.974713</td>\n",
       "    </tr>\n",
       "    <tr>\n",
       "      <th>2</th>\n",
       "      <td>4.633</td>\n",
       "      <td>4.595870</td>\n",
       "    </tr>\n",
       "    <tr>\n",
       "      <th>3</th>\n",
       "      <td>4.514</td>\n",
       "      <td>5.191294</td>\n",
       "    </tr>\n",
       "    <tr>\n",
       "      <th>4</th>\n",
       "      <td>5.716</td>\n",
       "      <td>5.548791</td>\n",
       "    </tr>\n",
       "    <tr>\n",
       "      <th>5</th>\n",
       "      <td>4.507</td>\n",
       "      <td>3.168588</td>\n",
       "    </tr>\n",
       "    <tr>\n",
       "      <th>6</th>\n",
       "      <td>4.512</td>\n",
       "      <td>4.735390</td>\n",
       "    </tr>\n",
       "    <tr>\n",
       "      <th>7</th>\n",
       "      <td>3.956</td>\n",
       "      <td>4.460120</td>\n",
       "    </tr>\n",
       "    <tr>\n",
       "      <th>8</th>\n",
       "      <td>4.686</td>\n",
       "      <td>5.651181</td>\n",
       "    </tr>\n",
       "    <tr>\n",
       "      <th>9</th>\n",
       "      <td>5.007</td>\n",
       "      <td>5.784193</td>\n",
       "    </tr>\n",
       "    <tr>\n",
       "      <th>10</th>\n",
       "      <td>6.786</td>\n",
       "      <td>6.001707</td>\n",
       "    </tr>\n",
       "    <tr>\n",
       "      <th>11</th>\n",
       "      <td>3.904</td>\n",
       "      <td>4.717075</td>\n",
       "    </tr>\n",
       "    <tr>\n",
       "      <th>12</th>\n",
       "      <td>6.670</td>\n",
       "      <td>6.222066</td>\n",
       "    </tr>\n",
       "    <tr>\n",
       "      <th>13</th>\n",
       "      <td>5.770</td>\n",
       "      <td>5.743258</td>\n",
       "    </tr>\n",
       "    <tr>\n",
       "      <th>14</th>\n",
       "      <td>5.194</td>\n",
       "      <td>4.998960</td>\n",
       "    </tr>\n",
       "    <tr>\n",
       "      <th>15</th>\n",
       "      <td>4.885</td>\n",
       "      <td>5.545198</td>\n",
       "    </tr>\n",
       "    <tr>\n",
       "      <th>16</th>\n",
       "      <td>4.297</td>\n",
       "      <td>5.762179</td>\n",
       "    </tr>\n",
       "    <tr>\n",
       "      <th>17</th>\n",
       "      <td>4.876</td>\n",
       "      <td>5.121410</td>\n",
       "    </tr>\n",
       "    <tr>\n",
       "      <th>18</th>\n",
       "      <td>3.896</td>\n",
       "      <td>4.711100</td>\n",
       "    </tr>\n",
       "    <tr>\n",
       "      <th>19</th>\n",
       "      <td>5.828</td>\n",
       "      <td>5.811542</td>\n",
       "    </tr>\n",
       "    <tr>\n",
       "      <th>20</th>\n",
       "      <td>5.987</td>\n",
       "      <td>6.693440</td>\n",
       "    </tr>\n",
       "    <tr>\n",
       "      <th>21</th>\n",
       "      <td>6.455</td>\n",
       "      <td>5.795040</td>\n",
       "    </tr>\n",
       "    <tr>\n",
       "      <th>22</th>\n",
       "      <td>5.791</td>\n",
       "      <td>5.939184</td>\n",
       "    </tr>\n",
       "    <tr>\n",
       "      <th>23</th>\n",
       "      <td>7.286</td>\n",
       "      <td>6.399178</td>\n",
       "    </tr>\n",
       "    <tr>\n",
       "      <th>24</th>\n",
       "      <td>6.168</td>\n",
       "      <td>5.355212</td>\n",
       "    </tr>\n",
       "    <tr>\n",
       "      <th>25</th>\n",
       "      <td>6.298</td>\n",
       "      <td>6.281565</td>\n",
       "    </tr>\n",
       "    <tr>\n",
       "      <th>26</th>\n",
       "      <td>4.857</td>\n",
       "      <td>6.305856</td>\n",
       "    </tr>\n",
       "    <tr>\n",
       "      <th>27</th>\n",
       "      <td>6.901</td>\n",
       "      <td>6.046661</td>\n",
       "    </tr>\n",
       "    <tr>\n",
       "      <th>28</th>\n",
       "      <td>3.819</td>\n",
       "      <td>5.342089</td>\n",
       "    </tr>\n",
       "    <tr>\n",
       "      <th>29</th>\n",
       "      <td>4.694</td>\n",
       "      <td>5.308302</td>\n",
       "    </tr>\n",
       "  </tbody>\n",
       "</table>\n",
       "</div>"
      ],
      "text/plain": [
       "    Actual  Predicted\n",
       "0    7.364   6.408069\n",
       "1    5.995   5.974713\n",
       "2    4.633   4.595870\n",
       "3    4.514   5.191294\n",
       "4    5.716   5.548791\n",
       "5    4.507   3.168588\n",
       "6    4.512   4.735390\n",
       "7    3.956   4.460120\n",
       "8    4.686   5.651181\n",
       "9    5.007   5.784193\n",
       "10   6.786   6.001707\n",
       "11   3.904   4.717075\n",
       "12   6.670   6.222066\n",
       "13   5.770   5.743258\n",
       "14   5.194   4.998960\n",
       "15   4.885   5.545198\n",
       "16   4.297   5.762179\n",
       "17   4.876   5.121410\n",
       "18   3.896   4.711100\n",
       "19   5.828   5.811542\n",
       "20   5.987   6.693440\n",
       "21   6.455   5.795040\n",
       "22   5.791   5.939184\n",
       "23   7.286   6.399178\n",
       "24   6.168   5.355212\n",
       "25   6.298   6.281565\n",
       "26   4.857   6.305856\n",
       "27   6.901   6.046661\n",
       "28   3.819   5.342089\n",
       "29   4.694   5.308302"
      ]
     },
     "execution_count": 137,
     "metadata": {},
     "output_type": "execute_result"
    }
   ],
   "source": [
    "# Create a dataframe comparing the actual and predicted values of y.\n",
    "\n",
    "data = pd.DataFrame({'Actual': y1_test.flatten(), 'Predicted': y1_predicted.flatten()})\n",
    "data.head(30)"
   ]
  },
  {
   "cell_type": "markdown",
   "id": "bf6bec3e-5e59-4deb-a9b9-c16189239a40",
   "metadata": {},
   "source": [
    "##### Compare how the regression fits the training set"
   ]
  },
  {
   "cell_type": "code",
   "execution_count": 139,
   "id": "ae610ae2-f1b8-4459-8940-91c4f3a9b55a",
   "metadata": {},
   "outputs": [],
   "source": [
    "# Predict.\n",
    "\n",
    "y1_predicted_train = regression.predict(X1_train) # This is predicting X_train!"
   ]
  },
  {
   "cell_type": "code",
   "execution_count": 140,
   "id": "d8ec6cb2-fa16-4b44-b01c-802add721bc8",
   "metadata": {},
   "outputs": [],
   "source": [
    "rmse_health_happiness_train = mean_squared_error(y1_train, y1_predicted_train)\n",
    "r2 = r2_score(y1_train, y1_predicted_train)"
   ]
  },
  {
   "cell_type": "code",
   "execution_count": 141,
   "id": "ef03543e-df86-4b2e-8fb8-ad1113629310",
   "metadata": {},
   "outputs": [
    {
     "name": "stdout",
     "output_type": "stream",
     "text": [
      "Slope: [[3.55646913]]\n",
      "Mean squared error:  0.6254607615034393\n",
      "R2 score:  0.5659174321740184\n"
     ]
    }
   ],
   "source": [
    "print('Slope:' ,regression.coef_)\n",
    "print('Mean squared error: ', rmse_health_happiness_train)\n",
    "print('R2 score: ', r2)"
   ]
  },
  {
   "cell_type": "code",
   "execution_count": 143,
   "id": "b7456391-7972-4f72-9121-b7b551a20226",
   "metadata": {},
   "outputs": [
    {
     "data": {
      "image/png": "[encoded data removed]",
      "text/plain": [
       "<Figure size 640x480 with 1 Axes>"
      ]
     },
     "metadata": {},
     "output_type": "display_data"
    }
   ],
   "source": [
    "# Visualizing the training set results.\n",
    "\n",
    "plot_train = plt\n",
    "plot_train.scatter(X1_train, y1_train, color='green', s=15)\n",
    "plot_train.plot(X1_train, y1_predicted_train, color='red', linewidth=3)\n",
    "plot_train.title('Healthy Life Expectancy vs Happiness Score (Train set)')\n",
    "plot_train.xlabel('Healthy Life Expectancy')\n",
    "plot_train.ylabel('Happiness Score')\n",
    "plot_train.show()"
   ]
  },
  {
   "cell_type": "markdown",
   "id": "85231b1f-ab56-41d5-8d6b-40f473139e24",
   "metadata": {},
   "source": [
    "Trained set:\n",
    "\n",
    "Slope: 3.5564\n",
    "Mean squared error:  0.6254607615034393\n",
    "R2 score:  0.5659174321740184\n",
    "\n",
    "Test set: \n",
    "\n",
    "Slope: 3.5564\n",
    "Mean squared error:  0.6177524296278911\n",
    "R2 score:  0.36947391733588475\n",
    "\n",
    "Possible explanations for the changes:\n",
    "\n",
    "Slope: The slope remained the same for both the trained and test sets this indicates that the relationship between GDP and Happiness Score is consistent across both sets.\n",
    "\n",
    "MSE: In this case, the performance in the test set is slightly better. \r\n",
    "\n",
    "R2 Scor). In the trained set, approximately 56.59% of the variance in happiness score is explained by healthy life expectancy, while in the test set, approximately 36.95% of the variance is explained\n",
    ".\r\n",
    "Overall, the trained model seems to perform better than the model tested on unseen da (e higher R2 score and lower mean squared err). . However, the R2 score for the test seindicatesof a moderate level of predictability.\n"
   ]
  }
 ],
 "metadata": {
  "kernelspec": {
   "display_name": "Python 3 (ipykernel)",
   "language": "python",
   "name": "python3"
  },
  "language_info": {
   "codemirror_mode": {
    "name": "ipython",
    "version": 3
   },
   "file_extension": ".py",
   "mimetype": "text/x-python",
   "name": "python",
   "nbconvert_exporter": "python",
   "pygments_lexer": "ipython3",
   "version": "3.11.7"
  }
 },
 "nbformat": 4,
 "nbformat_minor": 5
}
